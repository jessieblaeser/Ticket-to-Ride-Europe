{
 "cells": [
  {
   "cell_type": "code",
   "execution_count": 1,
   "id": "8229608a",
   "metadata": {},
   "outputs": [
    {
     "name": "stderr",
     "output_type": "stream",
     "text": [
      "/Users/jessieblaeser/.pyenv/versions/3.10.0/lib/python3.10/site-packages/pandas/compat/__init__.py:124: UserWarning: Could not import the lzma module. Your installed Python is incomplete. Attempting to use lzma compression will result in a RuntimeError.\n",
      "  warnings.warn(msg)\n"
     ]
    }
   ],
   "source": [
    "import pandas as pd\n",
    "import numpy as np "
   ]
  },
  {
   "cell_type": "code",
   "execution_count": 2,
   "id": "10b68a64",
   "metadata": {},
   "outputs": [],
   "source": [
    "df = pd.read_csv('tickets.csv')\n",
    "df.columns = df.columns.str.lower().str.replace(' ', '_')"
   ]
  },
  {
   "cell_type": "code",
   "execution_count": 3,
   "id": "48553ae7",
   "metadata": {},
   "outputs": [
    {
     "data": {
      "text/html": [
       "<div>\n",
       "<style scoped>\n",
       "    .dataframe tbody tr th:only-of-type {\n",
       "        vertical-align: middle;\n",
       "    }\n",
       "\n",
       "    .dataframe tbody tr th {\n",
       "        vertical-align: top;\n",
       "    }\n",
       "\n",
       "    .dataframe thead th {\n",
       "        text-align: right;\n",
       "    }\n",
       "</style>\n",
       "<table border=\"1\" class=\"dataframe\">\n",
       "  <thead>\n",
       "    <tr style=\"text-align: right;\">\n",
       "      <th></th>\n",
       "      <th>city_a</th>\n",
       "      <th>formatted_city_a</th>\n",
       "      <th>city_b</th>\n",
       "      <th>formatted_city_b</th>\n",
       "      <th>points</th>\n",
       "      <th>long_regular</th>\n",
       "      <th>category</th>\n",
       "    </tr>\n",
       "  </thead>\n",
       "  <tbody>\n",
       "    <tr>\n",
       "      <th>0</th>\n",
       "      <td>Brest</td>\n",
       "      <td>Brest, France</td>\n",
       "      <td>Petrograd</td>\n",
       "      <td>Saint Petersburg, Russia</td>\n",
       "      <td>20</td>\n",
       "      <td>1</td>\n",
       "      <td>Long</td>\n",
       "    </tr>\n",
       "    <tr>\n",
       "      <th>1</th>\n",
       "      <td>Lisboa</td>\n",
       "      <td>Lisbon, Portugal</td>\n",
       "      <td>Danzic</td>\n",
       "      <td>Gdansk, Poland</td>\n",
       "      <td>20</td>\n",
       "      <td>1</td>\n",
       "      <td>Long</td>\n",
       "    </tr>\n",
       "    <tr>\n",
       "      <th>2</th>\n",
       "      <td>Palermo</td>\n",
       "      <td>Palermo, Italy</td>\n",
       "      <td>Moskva</td>\n",
       "      <td>Moscow, Russia</td>\n",
       "      <td>20</td>\n",
       "      <td>1</td>\n",
       "      <td>Long</td>\n",
       "    </tr>\n",
       "    <tr>\n",
       "      <th>3</th>\n",
       "      <td>Kobenhavn</td>\n",
       "      <td>Copenhagen, Denmark</td>\n",
       "      <td>Erzurum</td>\n",
       "      <td>Erzurum, Turkey</td>\n",
       "      <td>21</td>\n",
       "      <td>1</td>\n",
       "      <td>Long</td>\n",
       "    </tr>\n",
       "    <tr>\n",
       "      <th>4</th>\n",
       "      <td>Edinburgh</td>\n",
       "      <td>Edinburgh, Scotland</td>\n",
       "      <td>Athína</td>\n",
       "      <td>Athens, Greece</td>\n",
       "      <td>21</td>\n",
       "      <td>1</td>\n",
       "      <td>Long</td>\n",
       "    </tr>\n",
       "  </tbody>\n",
       "</table>\n",
       "</div>"
      ],
      "text/plain": [
       "      city_a     formatted_city_a     city_b          formatted_city_b  \\\n",
       "0      Brest        Brest, France  Petrograd  Saint Petersburg, Russia   \n",
       "1     Lisboa     Lisbon, Portugal     Danzic            Gdansk, Poland   \n",
       "2    Palermo       Palermo, Italy     Moskva            Moscow, Russia   \n",
       "3  Kobenhavn  Copenhagen, Denmark    Erzurum           Erzurum, Turkey   \n",
       "4  Edinburgh  Edinburgh, Scotland     Athína            Athens, Greece   \n",
       "\n",
       "   points  long_regular category  \n",
       "0      20             1     Long  \n",
       "1      20             1     Long  \n",
       "2      20             1     Long  \n",
       "3      21             1     Long  \n",
       "4      21             1     Long  "
      ]
     },
     "execution_count": 3,
     "metadata": {},
     "output_type": "execute_result"
    }
   ],
   "source": [
    "df.head()"
   ]
  },
  {
   "cell_type": "code",
   "execution_count": 4,
   "id": "ebf05a3e",
   "metadata": {},
   "outputs": [
    {
     "data": {
      "text/plain": [
       "6"
      ]
     },
     "execution_count": 4,
     "metadata": {},
     "output_type": "execute_result"
    }
   ],
   "source": [
    "#Total ticket cards in European Version of Ticket to Ride: 46\n",
    "\n",
    "df.shape\n",
    "#46\n",
    "\n",
    "# Total \"Long Route\" ticket cards: 6\n",
    "df.long_regular.sum()\n",
    "#6\n",
    "\n",
    "# Total \"Regular Route\" ticket cards: 40 "
   ]
  },
  {
   "cell_type": "code",
   "execution_count": 5,
   "id": "dbd3459c",
   "metadata": {},
   "outputs": [
    {
     "data": {
      "text/plain": [
       "9.652173913043478"
      ]
     },
     "execution_count": 5,
     "metadata": {},
     "output_type": "execute_result"
    }
   ],
   "source": [
    "# Average points per ticket: 9.65 points\n",
    "\n",
    "df.points.mean()"
   ]
  },
  {
   "cell_type": "code",
   "execution_count": 6,
   "id": "2ca1c3c9",
   "metadata": {},
   "outputs": [
    {
     "data": {
      "text/plain": [
       "8.025"
      ]
     },
     "execution_count": 6,
     "metadata": {},
     "output_type": "execute_result"
    }
   ],
   "source": [
    "# Average points per \"regular\" ticket: 8 points\n",
    "\n",
    "df[df.category == 'Regular'].points.mean()"
   ]
  },
  {
   "cell_type": "code",
   "execution_count": 7,
   "id": "9ff56591",
   "metadata": {},
   "outputs": [
    {
     "data": {
      "image/png": "[encoded data removed]",
      "text/plain": [
       "<Figure size 640x480 with 1 Axes>"
      ]
     },
     "metadata": {},
     "output_type": "display_data"
    },
    {
     "data": {
      "text/plain": [
       "<ggplot: (304534688)>"
      ]
     },
     "execution_count": 7,
     "metadata": {},
     "output_type": "execute_result"
    }
   ],
   "source": [
    "# Scatter plot of points per ticket \n",
    "\n",
    "from plotnine import ggplot, aes, geom_point, facet_wrap, theme, element_blank\n",
    "\n",
    "(\n",
    "    ggplot(df,\n",
    "          aes('city_a', 'points'))\n",
    "        + geom_point()\n",
    "\n",
    ")\n",
    "\n",
    "#COME BACK: remove x-axis\n",
    "\n",
    "#Distribution of points per ticket route "
   ]
  },
  {
   "cell_type": "code",
   "execution_count": 8,
   "id": "e02dc9a4",
   "metadata": {},
   "outputs": [
    {
     "data": {
      "text/plain": [
       "<AxesSubplot:title={'center':'Top 10 Cities Found in European Tickets'}>"
      ]
     },
     "execution_count": 8,
     "metadata": {},
     "output_type": "execute_result"
    },
    {
     "data": {
      "image/png": "[encoded data removed]",
      "text/plain": [
       "<Figure size 432x288 with 1 Axes>"
      ]
     },
     "metadata": {
      "needs_background": "light"
     },
     "output_type": "display_data"
    }
   ],
   "source": [
    "a = df.city_b.value_counts()\n",
    "b = df.city_a.value_counts()\n",
    "a.add(b,fill_value=0).sort_values(ascending=False).head(10).plot(kind=\"bar\", title='Top 10 Cities Found in European Tickets')\n",
    "\n",
    "#COME BACK: Compare with cities with the most pathways, it definitely doesn't match exactly, which is interesting "
   ]
  },
  {
   "cell_type": "code",
   "execution_count": 18,
   "id": "98f37a31",
   "metadata": {},
   "outputs": [
    {
     "ename": "SyntaxError",
     "evalue": "unterminated string literal (detected at line 5) (4001558533.py, line 5)",
     "output_type": "error",
     "traceback": [
      "\u001b[0;36m  File \u001b[0;32m\"/var/folders/qx/nkh2pq6x3_193757ddxvrcf40000gp/T/ipykernel_8615/4001558533.py\"\u001b[0;36m, line \u001b[0;32m5\u001b[0m\n\u001b[0;31m    stat_count(mapping=aes(x='city_a', y='points), stat='identity')\u001b[0m\n\u001b[0m                                                                 ^\u001b[0m\n\u001b[0;31mSyntaxError\u001b[0m\u001b[0;31m:\u001b[0m unterminated string literal (detected at line 5)\n"
     ]
    }
   ],
   "source": [
    "from plotnine import ggplot, aes, geom_point, facet_wrap, theme, element_blank\n",
    "\n",
    "(\n",
    "    ggplot(df,\n",
    "          aes('city_a', 'points'))\n",
    "        + geom_point()\n",
    "\n",
    ")\n"
   ]
  },
  {
   "cell_type": "code",
   "execution_count": null,
   "id": "5481dc1f",
   "metadata": {},
   "outputs": [],
   "source": []
  }
 ],
 "metadata": {
  "kernelspec": {
   "display_name": "Python 3 (ipykernel)",
   "language": "python",
   "name": "python3"
  },
  "language_info": {
   "codemirror_mode": {
    "name": "ipython",
    "version": 3
   },
   "file_extension": ".py",
   "mimetype": "text/x-python",
   "name": "python",
   "nbconvert_exporter": "python",
   "pygments_lexer": "ipython3",
   "version": "3.10.0"
  }
 },
 "nbformat": 4,
 "nbformat_minor": 5
}
