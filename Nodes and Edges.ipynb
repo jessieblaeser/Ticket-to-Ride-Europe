{
 "cells": [
  {
   "cell_type": "code",
   "execution_count": 47,
   "id": "cec8e6d0",
   "metadata": {},
   "outputs": [
    {
     "data": {
      "text/html": [
       "<div>\n",
       "<style scoped>\n",
       "    .dataframe tbody tr th:only-of-type {\n",
       "        vertical-align: middle;\n",
       "    }\n",
       "\n",
       "    .dataframe tbody tr th {\n",
       "        vertical-align: top;\n",
       "    }\n",
       "\n",
       "    .dataframe thead th {\n",
       "        text-align: right;\n",
       "    }\n",
       "</style>\n",
       "<table border=\"1\" class=\"dataframe\">\n",
       "  <thead>\n",
       "    <tr style=\"text-align: right;\">\n",
       "      <th></th>\n",
       "      <th>city_a</th>\n",
       "      <th>city_a_formatted</th>\n",
       "      <th>city_b</th>\n",
       "      <th>city_b_formatted</th>\n",
       "      <th>distance</th>\n",
       "      <th>color</th>\n",
       "      <th>tunnel</th>\n",
       "      <th>ferry</th>\n",
       "      <th>ferry_count</th>\n",
       "      <th>lat_city_a</th>\n",
       "      <th>long_city_a</th>\n",
       "      <th>lat_city_b</th>\n",
       "      <th>long_city_b</th>\n",
       "    </tr>\n",
       "  </thead>\n",
       "  <tbody>\n",
       "    <tr>\n",
       "      <th>0</th>\n",
       "      <td>Edinburgh</td>\n",
       "      <td>Edinburgh, Scotland</td>\n",
       "      <td>London</td>\n",
       "      <td>London, England</td>\n",
       "      <td>4</td>\n",
       "      <td>Blue</td>\n",
       "      <td>0</td>\n",
       "      <td>0</td>\n",
       "      <td>NaN</td>\n",
       "      <td>55.953252</td>\n",
       "      <td>-3.188267</td>\n",
       "      <td>51.507218</td>\n",
       "      <td>-0.127586</td>\n",
       "    </tr>\n",
       "    <tr>\n",
       "      <th>1</th>\n",
       "      <td>Edinburgh</td>\n",
       "      <td>Edinburgh, Scotland</td>\n",
       "      <td>London</td>\n",
       "      <td>London, England</td>\n",
       "      <td>4</td>\n",
       "      <td>Orange</td>\n",
       "      <td>0</td>\n",
       "      <td>0</td>\n",
       "      <td>NaN</td>\n",
       "      <td>55.953252</td>\n",
       "      <td>-3.188267</td>\n",
       "      <td>51.507218</td>\n",
       "      <td>-0.127586</td>\n",
       "    </tr>\n",
       "    <tr>\n",
       "      <th>2</th>\n",
       "      <td>London</td>\n",
       "      <td>London, England</td>\n",
       "      <td>Dieppe</td>\n",
       "      <td>Dieppe, France</td>\n",
       "      <td>2</td>\n",
       "      <td>Grey</td>\n",
       "      <td>0</td>\n",
       "      <td>1</td>\n",
       "      <td>1.0</td>\n",
       "      <td>51.507218</td>\n",
       "      <td>-0.127586</td>\n",
       "      <td>49.922992</td>\n",
       "      <td>1.077483</td>\n",
       "    </tr>\n",
       "    <tr>\n",
       "      <th>3</th>\n",
       "      <td>London</td>\n",
       "      <td>London, England</td>\n",
       "      <td>Dieppe</td>\n",
       "      <td>Dieppe, France</td>\n",
       "      <td>2</td>\n",
       "      <td>Grey</td>\n",
       "      <td>0</td>\n",
       "      <td>1</td>\n",
       "      <td>1.0</td>\n",
       "      <td>51.507218</td>\n",
       "      <td>-0.127586</td>\n",
       "      <td>49.922992</td>\n",
       "      <td>1.077483</td>\n",
       "    </tr>\n",
       "    <tr>\n",
       "      <th>4</th>\n",
       "      <td>London</td>\n",
       "      <td>London, England</td>\n",
       "      <td>Amsterdam</td>\n",
       "      <td>Amsterdam, Netherlands</td>\n",
       "      <td>2</td>\n",
       "      <td>Grey</td>\n",
       "      <td>0</td>\n",
       "      <td>1</td>\n",
       "      <td>2.0</td>\n",
       "      <td>51.507218</td>\n",
       "      <td>-0.127586</td>\n",
       "      <td>52.367573</td>\n",
       "      <td>4.904139</td>\n",
       "    </tr>\n",
       "  </tbody>\n",
       "</table>\n",
       "</div>"
      ],
      "text/plain": [
       "      city_a     city_a_formatted     city_b        city_b_formatted  \\\n",
       "0  Edinburgh  Edinburgh, Scotland     London         London, England   \n",
       "1  Edinburgh  Edinburgh, Scotland     London         London, England   \n",
       "2     London      London, England     Dieppe          Dieppe, France   \n",
       "3     London      London, England     Dieppe          Dieppe, France   \n",
       "4     London      London, England  Amsterdam  Amsterdam, Netherlands   \n",
       "\n",
       "   distance   color  tunnel  ferry  ferry_count  lat_city_a  long_city_a  \\\n",
       "0         4    Blue       0      0          NaN   55.953252    -3.188267   \n",
       "1         4  Orange       0      0          NaN   55.953252    -3.188267   \n",
       "2         2    Grey       0      1          1.0   51.507218    -0.127586   \n",
       "3         2    Grey       0      1          1.0   51.507218    -0.127586   \n",
       "4         2    Grey       0      1          2.0   51.507218    -0.127586   \n",
       "\n",
       "   lat_city_b  long_city_b  \n",
       "0   51.507218    -0.127586  \n",
       "1   51.507218    -0.127586  \n",
       "2   49.922992     1.077483  \n",
       "3   49.922992     1.077483  \n",
       "4   52.367573     4.904139  "
      ]
     },
     "execution_count": 47,
     "metadata": {},
     "output_type": "execute_result"
    }
   ],
   "source": [
    "import pandas as pd\n",
    "\n",
    "df = pd.read_csv(\"routes.csv\")\n",
    "df.head(5)"
   ]
  },
  {
   "cell_type": "code",
   "execution_count": 48,
   "id": "b21c6b9e",
   "metadata": {},
   "outputs": [],
   "source": [
    "import networkx as nx\n",
    "import matplotlib.pyplot as plt"
   ]
  },
  {
   "cell_type": "code",
   "execution_count": 49,
   "id": "9ad7cf99",
   "metadata": {},
   "outputs": [
    {
     "data": {
      "text/plain": [
       "<networkx.classes.graph.Graph at 0x11e27ead0>"
      ]
     },
     "execution_count": 49,
     "metadata": {},
     "output_type": "execute_result"
    }
   ],
   "source": [
    "G = nx.from_pandas_edgelist(df, source='city_a', target='city_b', edge_attr=True)\n",
    "G"
   ]
  },
  {
   "cell_type": "markdown",
   "id": "86d2b68c",
   "metadata": {},
   "source": [
    "# Calculations"
   ]
  },
  {
   "cell_type": "code",
   "execution_count": 50,
   "id": "04f1f76c",
   "metadata": {},
   "outputs": [
    {
     "data": {
      "text/plain": [
       "['Paris', 'Dieppe', 'London', 'Edinburgh']"
      ]
     },
     "execution_count": 50,
     "metadata": {},
     "output_type": "execute_result"
    }
   ],
   "source": [
    "nx.shortest_path(G, 'Paris', 'Edinburgh', weight='Distance')\n"
   ]
  },
  {
   "cell_type": "code",
   "execution_count": 51,
   "id": "31ef0717",
   "metadata": {},
   "outputs": [
    {
     "data": {
      "text/plain": [
       "3"
      ]
     },
     "execution_count": 51,
     "metadata": {},
     "output_type": "execute_result"
    }
   ],
   "source": [
    "nx.shortest_path_length(G, 'Paris', 'Edinburgh', weight='Distance')"
   ]
  },
  {
   "cell_type": "code",
   "execution_count": 52,
   "id": "bfc7585e",
   "metadata": {},
   "outputs": [],
   "source": [
    "df2 = pd.read_csv('tickets.csv')\n",
    "df2.head()\n",
    "df2.columns = df2.columns.str.lower().str.replace(' ','_')\n",
    "\n",
    "routes = df2.to_dict('records') \n",
    "#routes"
   ]
  },
  {
   "cell_type": "code",
   "execution_count": 53,
   "id": "2ed33892",
   "metadata": {},
   "outputs": [
    {
     "name": "stdout",
     "output_type": "stream",
     "text": [
      "['Brest', 'Paris', 'Frankfurt', 'Berlin', 'Warszawa', 'Wilno', 'Petrograd']\n",
      "['Lisboa', 'Madrid', 'Pamplona', 'Paris', 'Frankfurt', 'Berlin', 'Danzic']\n",
      "['Palermo', 'Smyrna', 'Constantinople', 'Bucuresti', 'Kyiv', 'Kharkov', 'Moskva']\n",
      "['Kobenhavn', 'Stockholm', 'Petrograd', 'Moskva', 'Kharkov', 'Rostov', 'Sochi', 'Erzurum']\n",
      "['Edinburgh', 'London', 'Dieppe', 'Paris', 'Marseille', 'Roma', 'Brindisi', 'Athína']\n",
      "['Cádiz', 'Madrid', 'Pamplona', 'Paris', 'Frankfurt', 'Essen', 'Kobenhavn', 'Stockholm']\n",
      "['Athína', 'Sofia', 'Bucuresti', 'Kyiv', 'Wilno']\n",
      "['Frankfurt', 'Berlin', 'Warszawa', 'Kyiv', 'Smolensk']\n",
      "['Berlin', 'Warszawa', 'Kyiv', 'Kharkov', 'Moskva']\n",
      "['Amsterdam', 'Essen', 'Berlin', 'Warszawa', 'Wilno']\n",
      "['Stockholm', 'Petrograd', 'Wilno', 'Warszawa', 'Wien']\n",
      "['Kyiv', 'Wilno', 'Petrograd']\n",
      "['Zágráb', 'Venezia', 'Roma', 'Brindisi']\n",
      "['Warszawa', 'Kyiv', 'Smolensk']\n",
      "['Zürich', 'Marseille', 'Roma', 'Brindisi']\n",
      "['Zürich', 'Venezia', 'Zágráb', 'Budapest']\n",
      "problem!!\n",
      "['Brest', 'Pamplona', 'Marseille']\n",
      "['London', 'Amsterdam', 'Frankfurt', 'Berlin']\n",
      "['Amsterdam', 'Bruxelles', 'Paris', 'Pamplona']\n",
      "problem!!\n",
      "['Barcelona', 'Marseille', 'Zürich', 'München']\n",
      "['Marseille', 'Paris', 'Frankfurt', 'Essen']\n",
      "['Roma', 'Palermo', 'Smyrna']\n",
      "problem!!\n",
      "['Brest', 'Paris', 'Zürich', 'Venezia']\n",
      "['Barcelona', 'Pamplona', 'Paris', 'Bruxelles']\n",
      "['Smolensk', 'Moskva', 'Kharkov', 'Rostov']\n",
      "['Madrid', 'Pamplona', 'Paris', 'Zürich']\n",
      "['Palermo', 'Smyrna', 'Constantinople']\n",
      "['Berlin', 'Warszawa', 'Kyiv', 'Bucuresti']\n",
      "['Madrid', 'Pamplona', 'Brest', 'Dieppe']\n",
      "['Sarajevo', 'Sofia', 'Constantinople', 'Sevastopol']\n",
      "['Kyiv', 'Bucuresti', 'Sevastopol', 'Sochi']\n",
      "['Bruxelles', 'Frankfurt', 'Berlin', 'Danzic']\n",
      "['Berlin', 'Frankfurt', 'Paris', 'Marseille', 'Roma']\n",
      "problem!!\n",
      "['Venezia', 'Roma', 'Palermo', 'Smyrna', 'Constantinople']\n",
      "['Angora', 'Constantinople', 'Sevastopol', 'Rostov', 'Kharkov']\n",
      "['London', 'Amsterdam', 'Frankfurt', 'München', 'Wien']\n",
      "['Essen', 'Berlin', 'Warszawa', 'Kyiv']\n",
      "['Frankfurt', 'Essen', 'Kobenhavn']\n",
      "['Rostov', 'Sochi', 'Erzurum']\n",
      "['Athína', 'Smyrna', 'Angora']\n",
      "['Budapest', 'Bucuresti', 'Sofia']\n",
      "['Sofia', 'Athína', 'Smyrna']\n"
     ]
    }
   ],
   "source": [
    "# #nx.shortest_path(G, df['city_a'], df['city_b'], weight='Distance')\n",
    "# routes = df.to_dict('records') \n",
    "\n",
    "shortest_routes = []\n",
    "for route in routes: \n",
    "    try:\n",
    "        paths = nx.shortest_path(G, route['city_a'], route['city_b'], weight='Distance')\n",
    "        #shortest_routes.append(paths)\n",
    "        print(paths)\n",
    "        shortest_routes.append(paths)\n",
    "    except: \n",
    "        print(f'problem!!')\n",
    "\n",
    "# city_a = []\n",
    "# for route in routes:\n",
    "#     city_a.append(route['city_a'])\n",
    "# city_a\n",
    "\n",
    "# city_b = []\n",
    "# for route in routes: \n",
    "#     city_b.append(route['city_b'])\n",
    "# city_b\n",
    "\n",
    "# nx.shortest_path(G, city_a[1], city_b[1], weight='Distance')"
   ]
  },
  {
   "cell_type": "code",
   "execution_count": 54,
   "id": "f4a1002b",
   "metadata": {},
   "outputs": [
    {
     "data": {
      "text/plain": [
       "[['Brest', 'Paris', 'Frankfurt', 'Berlin', 'Warszawa', 'Wilno', 'Petrograd'],\n",
       " ['Lisboa', 'Madrid', 'Pamplona', 'Paris', 'Frankfurt', 'Berlin', 'Danzic'],\n",
       " ['Palermo',\n",
       "  'Smyrna',\n",
       "  'Constantinople',\n",
       "  'Bucuresti',\n",
       "  'Kyiv',\n",
       "  'Kharkov',\n",
       "  'Moskva'],\n",
       " ['Kobenhavn',\n",
       "  'Stockholm',\n",
       "  'Petrograd',\n",
       "  'Moskva',\n",
       "  'Kharkov',\n",
       "  'Rostov',\n",
       "  'Sochi',\n",
       "  'Erzurum'],\n",
       " ['Edinburgh',\n",
       "  'London',\n",
       "  'Dieppe',\n",
       "  'Paris',\n",
       "  'Marseille',\n",
       "  'Roma',\n",
       "  'Brindisi',\n",
       "  'Athína'],\n",
       " ['Cádiz',\n",
       "  'Madrid',\n",
       "  'Pamplona',\n",
       "  'Paris',\n",
       "  'Frankfurt',\n",
       "  'Essen',\n",
       "  'Kobenhavn',\n",
       "  'Stockholm'],\n",
       " ['Athína', 'Sofia', 'Bucuresti', 'Kyiv', 'Wilno'],\n",
       " ['Frankfurt', 'Berlin', 'Warszawa', 'Kyiv', 'Smolensk'],\n",
       " ['Berlin', 'Warszawa', 'Kyiv', 'Kharkov', 'Moskva'],\n",
       " ['Amsterdam', 'Essen', 'Berlin', 'Warszawa', 'Wilno'],\n",
       " ['Stockholm', 'Petrograd', 'Wilno', 'Warszawa', 'Wien'],\n",
       " ['Kyiv', 'Wilno', 'Petrograd'],\n",
       " ['Zágráb', 'Venezia', 'Roma', 'Brindisi'],\n",
       " ['Warszawa', 'Kyiv', 'Smolensk'],\n",
       " ['Zürich', 'Marseille', 'Roma', 'Brindisi'],\n",
       " ['Zürich', 'Venezia', 'Zágráb', 'Budapest'],\n",
       " ['Brest', 'Pamplona', 'Marseille'],\n",
       " ['London', 'Amsterdam', 'Frankfurt', 'Berlin'],\n",
       " ['Amsterdam', 'Bruxelles', 'Paris', 'Pamplona'],\n",
       " ['Barcelona', 'Marseille', 'Zürich', 'München'],\n",
       " ['Marseille', 'Paris', 'Frankfurt', 'Essen'],\n",
       " ['Roma', 'Palermo', 'Smyrna'],\n",
       " ['Brest', 'Paris', 'Zürich', 'Venezia'],\n",
       " ['Barcelona', 'Pamplona', 'Paris', 'Bruxelles'],\n",
       " ['Smolensk', 'Moskva', 'Kharkov', 'Rostov'],\n",
       " ['Madrid', 'Pamplona', 'Paris', 'Zürich'],\n",
       " ['Palermo', 'Smyrna', 'Constantinople'],\n",
       " ['Berlin', 'Warszawa', 'Kyiv', 'Bucuresti'],\n",
       " ['Madrid', 'Pamplona', 'Brest', 'Dieppe'],\n",
       " ['Sarajevo', 'Sofia', 'Constantinople', 'Sevastopol'],\n",
       " ['Kyiv', 'Bucuresti', 'Sevastopol', 'Sochi'],\n",
       " ['Bruxelles', 'Frankfurt', 'Berlin', 'Danzic'],\n",
       " ['Berlin', 'Frankfurt', 'Paris', 'Marseille', 'Roma'],\n",
       " ['Venezia', 'Roma', 'Palermo', 'Smyrna', 'Constantinople'],\n",
       " ['Angora', 'Constantinople', 'Sevastopol', 'Rostov', 'Kharkov'],\n",
       " ['London', 'Amsterdam', 'Frankfurt', 'München', 'Wien'],\n",
       " ['Essen', 'Berlin', 'Warszawa', 'Kyiv'],\n",
       " ['Frankfurt', 'Essen', 'Kobenhavn'],\n",
       " ['Rostov', 'Sochi', 'Erzurum'],\n",
       " ['Athína', 'Smyrna', 'Angora'],\n",
       " ['Budapest', 'Bucuresti', 'Sofia'],\n",
       " ['Sofia', 'Athína', 'Smyrna']]"
      ]
     },
     "execution_count": 54,
     "metadata": {},
     "output_type": "execute_result"
    }
   ],
   "source": [
    "shortest_routes"
   ]
  },
  {
   "cell_type": "code",
   "execution_count": 55,
   "id": "5d5994b0",
   "metadata": {},
   "outputs": [
    {
     "data": {
      "text/plain": [
       "0       [Edinburgh, London]\n",
       "1       [Edinburgh, London]\n",
       "2          [London, Dieppe]\n",
       "3          [London, Dieppe]\n",
       "4       [London, Amsterdam]\n",
       "               ...         \n",
       "96          [Essen, Berlin]\n",
       "97       [Zágráb, Budapest]\n",
       "98       [Zágráb, Sarajevo]\n",
       "99     [Sarajevo, Budapest]\n",
       "100       [Paris, Pamplona]\n",
       "Name: path, Length: 101, dtype: object"
      ]
     },
     "execution_count": 55,
     "metadata": {},
     "output_type": "execute_result"
    }
   ],
   "source": [
    "df['path'] = df.apply(lambda row: nx.shortest_path(G, row['city_a'], row['city_b'], weight='Distance'), axis=1)\n",
    "\n",
    "#df['path_length'] = df.apply(lambda row: nx.shortest_path_length(G, row['city_a'], row['city_b'], weight='Distance'), axis=1)\n",
    "\n",
    "df['path']\n",
    "\n",
    "\n",
    "\n"
   ]
  },
  {
   "cell_type": "code",
   "execution_count": null,
   "id": "d1a6af66",
   "metadata": {},
   "outputs": [],
   "source": []
  },
  {
   "cell_type": "markdown",
   "id": "a362e7ef",
   "metadata": {},
   "source": [
    "# Drawing "
   ]
  },
  {
   "cell_type": "code",
   "execution_count": 56,
   "id": "bd074683",
   "metadata": {},
   "outputs": [],
   "source": [
    "edges = list(G.edges())\n",
    "colors = [G[u][v]['color'] for u,v in edges]\n",
    "weights = [G[u][v]['distance'] for u,v in edges]\n",
    "labels = {node: node for node in G.nodes()}"
   ]
  },
  {
   "cell_type": "code",
   "execution_count": 57,
   "id": "bb4a0a57",
   "metadata": {},
   "outputs": [
    {
     "data": {
      "image/png": "[encoded data removed]",
      "text/plain": [
       "<Figure size 432x288 with 1 Axes>"
      ]
     },
     "metadata": {},
     "output_type": "display_data"
    }
   ],
   "source": [
    "pos = nx.spring_layout(G, weight='Distance', scale=10, iterations=100)\n",
    "nx.draw(G, pos)\n",
    "nx.draw_networkx_edges(G, pos, width=weights, edge_color=colors)\n",
    "nx.draw_networkx_labels(G, pos, labels=labels)\n",
    "plt.show()"
   ]
  },
  {
   "cell_type": "code",
   "execution_count": null,
   "id": "49974396",
   "metadata": {},
   "outputs": [],
   "source": []
  }
 ],
 "metadata": {
  "kernelspec": {
   "display_name": "Python 3 (ipykernel)",
   "language": "python",
   "name": "python3"
  },
  "language_info": {
   "codemirror_mode": {
    "name": "ipython",
    "version": 3
   },
   "file_extension": ".py",
   "mimetype": "text/x-python",
   "name": "python",
   "nbconvert_exporter": "python",
   "pygments_lexer": "ipython3",
   "version": "3.10.0"
  }
 },
 "nbformat": 4,
 "nbformat_minor": 5
}
