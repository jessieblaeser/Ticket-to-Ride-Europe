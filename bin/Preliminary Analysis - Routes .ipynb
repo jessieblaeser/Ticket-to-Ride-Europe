{
 "cells": [
  {
   "cell_type": "markdown",
   "id": "956e35b2",
   "metadata": {},
   "source": [
    "# Analyzing the initial route data\n",
    "This data was collected manually."
   ]
  },
  {
   "cell_type": "code",
   "execution_count": 1,
   "id": "d8d62997",
   "metadata": {},
   "outputs": [
    {
     "name": "stderr",
     "output_type": "stream",
     "text": [
      "/Users/jessieblaeser/.pyenv/versions/3.10.0/lib/python3.10/site-packages/pandas/compat/__init__.py:124: UserWarning: Could not import the lzma module. Your installed Python is incomplete. Attempting to use lzma compression will result in a RuntimeError.\n",
      "  warnings.warn(msg)\n"
     ]
    }
   ],
   "source": [
    "import pandas as pd\n",
    "import numpy as np\n"
   ]
  },
  {
   "cell_type": "code",
   "execution_count": 2,
   "id": "197f4fee",
   "metadata": {},
   "outputs": [],
   "source": [
    "df = pd.read_csv('routes.csv')"
   ]
  },
  {
   "cell_type": "code",
   "execution_count": 3,
   "id": "9a8bfa84",
   "metadata": {},
   "outputs": [
    {
     "data": {
      "text/html": [
       "<div>\n",
       "<style scoped>\n",
       "    .dataframe tbody tr th:only-of-type {\n",
       "        vertical-align: middle;\n",
       "    }\n",
       "\n",
       "    .dataframe tbody tr th {\n",
       "        vertical-align: top;\n",
       "    }\n",
       "\n",
       "    .dataframe thead th {\n",
       "        text-align: right;\n",
       "    }\n",
       "</style>\n",
       "<table border=\"1\" class=\"dataframe\">\n",
       "  <thead>\n",
       "    <tr style=\"text-align: right;\">\n",
       "      <th></th>\n",
       "      <th>city_a</th>\n",
       "      <th>city_a_formatted</th>\n",
       "      <th>city_b</th>\n",
       "      <th>city_b_formatted</th>\n",
       "      <th>distance</th>\n",
       "      <th>color</th>\n",
       "      <th>tunnel</th>\n",
       "      <th>ferry</th>\n",
       "      <th>ferry_count</th>\n",
       "      <th>lat_city_a</th>\n",
       "      <th>long_city_a</th>\n",
       "      <th>lat_city_b</th>\n",
       "      <th>long_city_b</th>\n",
       "    </tr>\n",
       "  </thead>\n",
       "  <tbody>\n",
       "    <tr>\n",
       "      <th>0</th>\n",
       "      <td>Edinburgh</td>\n",
       "      <td>Edinburgh, Scotland</td>\n",
       "      <td>London</td>\n",
       "      <td>London, England</td>\n",
       "      <td>4</td>\n",
       "      <td>Blue</td>\n",
       "      <td>0</td>\n",
       "      <td>0</td>\n",
       "      <td>NaN</td>\n",
       "      <td>55.953252</td>\n",
       "      <td>-3.188267</td>\n",
       "      <td>51.507218</td>\n",
       "      <td>-0.127586</td>\n",
       "    </tr>\n",
       "    <tr>\n",
       "      <th>1</th>\n",
       "      <td>Edinburgh</td>\n",
       "      <td>Edinburgh, Scotland</td>\n",
       "      <td>London</td>\n",
       "      <td>London, England</td>\n",
       "      <td>4</td>\n",
       "      <td>Orange</td>\n",
       "      <td>0</td>\n",
       "      <td>0</td>\n",
       "      <td>NaN</td>\n",
       "      <td>55.953252</td>\n",
       "      <td>-3.188267</td>\n",
       "      <td>51.507218</td>\n",
       "      <td>-0.127586</td>\n",
       "    </tr>\n",
       "    <tr>\n",
       "      <th>2</th>\n",
       "      <td>London</td>\n",
       "      <td>London, England</td>\n",
       "      <td>Dieppe</td>\n",
       "      <td>Dieppe, France</td>\n",
       "      <td>2</td>\n",
       "      <td>Grey</td>\n",
       "      <td>0</td>\n",
       "      <td>1</td>\n",
       "      <td>1.0</td>\n",
       "      <td>51.507218</td>\n",
       "      <td>-0.127586</td>\n",
       "      <td>49.922992</td>\n",
       "      <td>1.077483</td>\n",
       "    </tr>\n",
       "    <tr>\n",
       "      <th>3</th>\n",
       "      <td>London</td>\n",
       "      <td>London, England</td>\n",
       "      <td>Dieppe</td>\n",
       "      <td>Dieppe, France</td>\n",
       "      <td>2</td>\n",
       "      <td>Grey</td>\n",
       "      <td>0</td>\n",
       "      <td>1</td>\n",
       "      <td>1.0</td>\n",
       "      <td>51.507218</td>\n",
       "      <td>-0.127586</td>\n",
       "      <td>49.922992</td>\n",
       "      <td>1.077483</td>\n",
       "    </tr>\n",
       "    <tr>\n",
       "      <th>4</th>\n",
       "      <td>London</td>\n",
       "      <td>London, England</td>\n",
       "      <td>Amsterdam</td>\n",
       "      <td>Amsterdam, Netherlands</td>\n",
       "      <td>2</td>\n",
       "      <td>Grey</td>\n",
       "      <td>0</td>\n",
       "      <td>1</td>\n",
       "      <td>2.0</td>\n",
       "      <td>51.507218</td>\n",
       "      <td>-0.127586</td>\n",
       "      <td>52.367573</td>\n",
       "      <td>4.904139</td>\n",
       "    </tr>\n",
       "  </tbody>\n",
       "</table>\n",
       "</div>"
      ],
      "text/plain": [
       "      city_a     city_a_formatted     city_b        city_b_formatted  \\\n",
       "0  Edinburgh  Edinburgh, Scotland     London         London, England   \n",
       "1  Edinburgh  Edinburgh, Scotland     London         London, England   \n",
       "2     London      London, England     Dieppe          Dieppe, France   \n",
       "3     London      London, England     Dieppe          Dieppe, France   \n",
       "4     London      London, England  Amsterdam  Amsterdam, Netherlands   \n",
       "\n",
       "   distance   color  tunnel  ferry  ferry_count  lat_city_a  long_city_a  \\\n",
       "0         4    Blue       0      0          NaN   55.953252    -3.188267   \n",
       "1         4  Orange       0      0          NaN   55.953252    -3.188267   \n",
       "2         2    Grey       0      1          1.0   51.507218    -0.127586   \n",
       "3         2    Grey       0      1          1.0   51.507218    -0.127586   \n",
       "4         2    Grey       0      1          2.0   51.507218    -0.127586   \n",
       "\n",
       "   lat_city_b  long_city_b  \n",
       "0   51.507218    -0.127586  \n",
       "1   51.507218    -0.127586  \n",
       "2   49.922992     1.077483  \n",
       "3   49.922992     1.077483  \n",
       "4   52.367573     4.904139  "
      ]
     },
     "execution_count": 3,
     "metadata": {},
     "output_type": "execute_result"
    }
   ],
   "source": [
    "df.head()\n",
    "df.columns = df.columns.str.lower().str.replace(' ', '_')\n",
    "df.columns\n",
    "df.head()"
   ]
  },
  {
   "cell_type": "markdown",
   "id": "2ed35380",
   "metadata": {},
   "source": [
    "# Preliminary Analysis\n",
    "### Counting the cities with the most train traffic \n",
    "i.e. The most train routes in and out of the city"
   ]
  },
  {
   "cell_type": "code",
   "execution_count": 4,
   "id": "f413b8b6",
   "metadata": {},
   "outputs": [
    {
     "data": {
      "text/html": [
       "<div>\n",
       "<style scoped>\n",
       "    .dataframe tbody tr th:only-of-type {\n",
       "        vertical-align: middle;\n",
       "    }\n",
       "\n",
       "    .dataframe tbody tr th {\n",
       "        vertical-align: top;\n",
       "    }\n",
       "\n",
       "    .dataframe thead th {\n",
       "        text-align: right;\n",
       "    }\n",
       "</style>\n",
       "<table border=\"1\" class=\"dataframe\">\n",
       "  <thead>\n",
       "    <tr style=\"text-align: right;\">\n",
       "      <th></th>\n",
       "      <th>city_a</th>\n",
       "      <th>city_a_formatted</th>\n",
       "      <th>city_b</th>\n",
       "      <th>city_b_formatted</th>\n",
       "      <th>distance</th>\n",
       "      <th>color</th>\n",
       "      <th>tunnel</th>\n",
       "      <th>ferry</th>\n",
       "      <th>ferry_count</th>\n",
       "      <th>lat_city_a</th>\n",
       "      <th>long_city_a</th>\n",
       "      <th>lat_city_b</th>\n",
       "      <th>long_city_b</th>\n",
       "    </tr>\n",
       "  </thead>\n",
       "  <tbody>\n",
       "    <tr>\n",
       "      <th>23</th>\n",
       "      <td>Paris</td>\n",
       "      <td>Paris, France</td>\n",
       "      <td>Zürich</td>\n",
       "      <td>Zurich, Switzerland</td>\n",
       "      <td>3</td>\n",
       "      <td>Grey</td>\n",
       "      <td>1</td>\n",
       "      <td>0</td>\n",
       "      <td>NaN</td>\n",
       "      <td>48.856614</td>\n",
       "      <td>2.352222</td>\n",
       "      <td>47.376887</td>\n",
       "      <td>8.541694</td>\n",
       "    </tr>\n",
       "    <tr>\n",
       "      <th>24</th>\n",
       "      <td>Paris</td>\n",
       "      <td>Paris, France</td>\n",
       "      <td>Bruxelles</td>\n",
       "      <td>Brussels, Belgium</td>\n",
       "      <td>2</td>\n",
       "      <td>Yellow</td>\n",
       "      <td>0</td>\n",
       "      <td>0</td>\n",
       "      <td>NaN</td>\n",
       "      <td>48.856614</td>\n",
       "      <td>2.352222</td>\n",
       "      <td>50.847642</td>\n",
       "      <td>4.357170</td>\n",
       "    </tr>\n",
       "    <tr>\n",
       "      <th>25</th>\n",
       "      <td>Paris</td>\n",
       "      <td>Paris, France</td>\n",
       "      <td>Bruxelles</td>\n",
       "      <td>Brussels, Belgium</td>\n",
       "      <td>2</td>\n",
       "      <td>Red</td>\n",
       "      <td>0</td>\n",
       "      <td>0</td>\n",
       "      <td>NaN</td>\n",
       "      <td>48.856614</td>\n",
       "      <td>2.352222</td>\n",
       "      <td>50.847642</td>\n",
       "      <td>4.357170</td>\n",
       "    </tr>\n",
       "    <tr>\n",
       "      <th>26</th>\n",
       "      <td>Paris</td>\n",
       "      <td>Paris, France</td>\n",
       "      <td>Frankfurt</td>\n",
       "      <td>Frankfurt, Germany</td>\n",
       "      <td>3</td>\n",
       "      <td>White</td>\n",
       "      <td>0</td>\n",
       "      <td>0</td>\n",
       "      <td>NaN</td>\n",
       "      <td>48.856614</td>\n",
       "      <td>2.352222</td>\n",
       "      <td>50.110922</td>\n",
       "      <td>8.682127</td>\n",
       "    </tr>\n",
       "    <tr>\n",
       "      <th>27</th>\n",
       "      <td>Paris</td>\n",
       "      <td>Paris, France</td>\n",
       "      <td>Frankfurt</td>\n",
       "      <td>Frankfurt, Germany</td>\n",
       "      <td>3</td>\n",
       "      <td>Orange</td>\n",
       "      <td>0</td>\n",
       "      <td>0</td>\n",
       "      <td>NaN</td>\n",
       "      <td>48.856614</td>\n",
       "      <td>2.352222</td>\n",
       "      <td>50.110922</td>\n",
       "      <td>8.682127</td>\n",
       "    </tr>\n",
       "    <tr>\n",
       "      <th>100</th>\n",
       "      <td>Paris</td>\n",
       "      <td>Paris, France</td>\n",
       "      <td>Pamplona</td>\n",
       "      <td>Pamplona, Spain</td>\n",
       "      <td>4</td>\n",
       "      <td>Green</td>\n",
       "      <td>0</td>\n",
       "      <td>0</td>\n",
       "      <td>NaN</td>\n",
       "      <td>48.856614</td>\n",
       "      <td>2.352222</td>\n",
       "      <td>42.812526</td>\n",
       "      <td>-1.645774</td>\n",
       "    </tr>\n",
       "  </tbody>\n",
       "</table>\n",
       "</div>"
      ],
      "text/plain": [
       "    city_a city_a_formatted     city_b     city_b_formatted  distance   color  \\\n",
       "23   Paris    Paris, France     Zürich  Zurich, Switzerland         3    Grey   \n",
       "24   Paris    Paris, France  Bruxelles    Brussels, Belgium         2  Yellow   \n",
       "25   Paris    Paris, France  Bruxelles    Brussels, Belgium         2     Red   \n",
       "26   Paris    Paris, France  Frankfurt   Frankfurt, Germany         3   White   \n",
       "27   Paris    Paris, France  Frankfurt   Frankfurt, Germany         3  Orange   \n",
       "100  Paris    Paris, France   Pamplona      Pamplona, Spain         4   Green   \n",
       "\n",
       "     tunnel  ferry  ferry_count  lat_city_a  long_city_a  lat_city_b  \\\n",
       "23        1      0          NaN   48.856614     2.352222   47.376887   \n",
       "24        0      0          NaN   48.856614     2.352222   50.847642   \n",
       "25        0      0          NaN   48.856614     2.352222   50.847642   \n",
       "26        0      0          NaN   48.856614     2.352222   50.110922   \n",
       "27        0      0          NaN   48.856614     2.352222   50.110922   \n",
       "100       0      0          NaN   48.856614     2.352222   42.812526   \n",
       "\n",
       "     long_city_b  \n",
       "23      8.541694  \n",
       "24      4.357170  \n",
       "25      4.357170  \n",
       "26      8.682127  \n",
       "27      8.682127  \n",
       "100    -1.645774  "
      ]
     },
     "execution_count": 4,
     "metadata": {},
     "output_type": "execute_result"
    }
   ],
   "source": [
    "df[df.city_a == 'Paris']"
   ]
  },
  {
   "cell_type": "code",
   "execution_count": 5,
   "id": "5b20bf48",
   "metadata": {},
   "outputs": [
    {
     "data": {
      "text/html": [
       "<div>\n",
       "<style scoped>\n",
       "    .dataframe tbody tr th:only-of-type {\n",
       "        vertical-align: middle;\n",
       "    }\n",
       "\n",
       "    .dataframe tbody tr th {\n",
       "        vertical-align: top;\n",
       "    }\n",
       "\n",
       "    .dataframe thead th {\n",
       "        text-align: right;\n",
       "    }\n",
       "</style>\n",
       "<table border=\"1\" class=\"dataframe\">\n",
       "  <thead>\n",
       "    <tr style=\"text-align: right;\">\n",
       "      <th></th>\n",
       "      <th>city_a</th>\n",
       "      <th>city_a_formatted</th>\n",
       "      <th>city_b</th>\n",
       "      <th>city_b_formatted</th>\n",
       "      <th>distance</th>\n",
       "      <th>color</th>\n",
       "      <th>tunnel</th>\n",
       "      <th>ferry</th>\n",
       "      <th>ferry_count</th>\n",
       "      <th>lat_city_a</th>\n",
       "      <th>long_city_a</th>\n",
       "      <th>lat_city_b</th>\n",
       "      <th>long_city_b</th>\n",
       "    </tr>\n",
       "  </thead>\n",
       "  <tbody>\n",
       "    <tr>\n",
       "      <th>6</th>\n",
       "      <td>Dieppe</td>\n",
       "      <td>Dieppe, France</td>\n",
       "      <td>Paris</td>\n",
       "      <td>Paris, France</td>\n",
       "      <td>1</td>\n",
       "      <td>Pink</td>\n",
       "      <td>0</td>\n",
       "      <td>0</td>\n",
       "      <td>NaN</td>\n",
       "      <td>49.922992</td>\n",
       "      <td>1.077483</td>\n",
       "      <td>48.856614</td>\n",
       "      <td>2.352222</td>\n",
       "    </tr>\n",
       "    <tr>\n",
       "      <th>8</th>\n",
       "      <td>Brest</td>\n",
       "      <td>Brest, France</td>\n",
       "      <td>Paris</td>\n",
       "      <td>Paris, France</td>\n",
       "      <td>3</td>\n",
       "      <td>Blue</td>\n",
       "      <td>0</td>\n",
       "      <td>0</td>\n",
       "      <td>NaN</td>\n",
       "      <td>48.390394</td>\n",
       "      <td>-4.486076</td>\n",
       "      <td>48.856614</td>\n",
       "      <td>2.352222</td>\n",
       "    </tr>\n",
       "    <tr>\n",
       "      <th>13</th>\n",
       "      <td>Pamplona</td>\n",
       "      <td>Pamplona, Spain</td>\n",
       "      <td>Paris</td>\n",
       "      <td>Paris, France</td>\n",
       "      <td>4</td>\n",
       "      <td>Blue</td>\n",
       "      <td>0</td>\n",
       "      <td>0</td>\n",
       "      <td>NaN</td>\n",
       "      <td>42.812526</td>\n",
       "      <td>-1.645774</td>\n",
       "      <td>48.856614</td>\n",
       "      <td>2.352222</td>\n",
       "    </tr>\n",
       "    <tr>\n",
       "      <th>20</th>\n",
       "      <td>Marseille</td>\n",
       "      <td>Marseille, France</td>\n",
       "      <td>Paris</td>\n",
       "      <td>Paris, France</td>\n",
       "      <td>4</td>\n",
       "      <td>Grey</td>\n",
       "      <td>0</td>\n",
       "      <td>0</td>\n",
       "      <td>NaN</td>\n",
       "      <td>43.296482</td>\n",
       "      <td>5.369780</td>\n",
       "      <td>48.856614</td>\n",
       "      <td>2.352222</td>\n",
       "    </tr>\n",
       "  </tbody>\n",
       "</table>\n",
       "</div>"
      ],
      "text/plain": [
       "       city_a   city_a_formatted city_b city_b_formatted  distance color  \\\n",
       "6      Dieppe     Dieppe, France  Paris    Paris, France         1  Pink   \n",
       "8       Brest      Brest, France  Paris    Paris, France         3  Blue   \n",
       "13   Pamplona    Pamplona, Spain  Paris    Paris, France         4  Blue   \n",
       "20  Marseille  Marseille, France  Paris    Paris, France         4  Grey   \n",
       "\n",
       "    tunnel  ferry  ferry_count  lat_city_a  long_city_a  lat_city_b  \\\n",
       "6        0      0          NaN   49.922992     1.077483   48.856614   \n",
       "8        0      0          NaN   48.390394    -4.486076   48.856614   \n",
       "13       0      0          NaN   42.812526    -1.645774   48.856614   \n",
       "20       0      0          NaN   43.296482     5.369780   48.856614   \n",
       "\n",
       "    long_city_b  \n",
       "6      2.352222  \n",
       "8      2.352222  \n",
       "13     2.352222  \n",
       "20     2.352222  "
      ]
     },
     "execution_count": 5,
     "metadata": {},
     "output_type": "execute_result"
    }
   ],
   "source": [
    "df[df.city_b == 'Paris']"
   ]
  },
  {
   "cell_type": "markdown",
   "id": "fd8dbec9",
   "metadata": {},
   "source": [
    "## Paris has the most routes in and out. \n",
    "But, we know from our preliminary analysis of the ticket cards that Paris is not the most common origin or destination city. This tells us that Paris is simply a desirable or common waypoint on players' greater journeys."
   ]
  },
  {
   "cell_type": "code",
   "execution_count": 206,
   "id": "fc507455",
   "metadata": {},
   "outputs": [
    {
     "data": {
      "text/plain": [
       "<AxesSubplot:title={'center':'Cities with the most train routes'}>"
      ]
     },
     "execution_count": 206,
     "metadata": {},
     "output_type": "execute_result"
    },
    {
     "data": {
      "image/png": "[encoded data removed]",
      "text/plain": [
       "<Figure size 432x288 with 1 Axes>"
      ]
     },
     "metadata": {
      "needs_background": "light"
     },
     "output_type": "display_data"
    }
   ],
   "source": [
    "a = df.city_b.value_counts()\n",
    "b = df.city_a.value_counts()\n",
    "a.add(b,fill_value=0)\n",
    "\n",
    "total_tracks = a.add(b,fill_value=0)\n",
    "total_tracks.sort_values(ascending=False).head(10).plot(kind='bar', title='Cities with the most train routes')\n"
   ]
  },
  {
   "cell_type": "code",
   "execution_count": 207,
   "id": "e5095583",
   "metadata": {},
   "outputs": [
    {
     "data": {
      "text/html": [
       "<div>\n",
       "<style scoped>\n",
       "    .dataframe tbody tr th:only-of-type {\n",
       "        vertical-align: middle;\n",
       "    }\n",
       "\n",
       "    .dataframe tbody tr th {\n",
       "        vertical-align: top;\n",
       "    }\n",
       "\n",
       "    .dataframe thead th {\n",
       "        text-align: right;\n",
       "    }\n",
       "</style>\n",
       "<table border=\"1\" class=\"dataframe\">\n",
       "  <thead>\n",
       "    <tr style=\"text-align: right;\">\n",
       "      <th></th>\n",
       "      <th>train_routes_per_city</th>\n",
       "    </tr>\n",
       "  </thead>\n",
       "  <tbody>\n",
       "    <tr>\n",
       "      <th>Amsterdam</th>\n",
       "      <td>4.0</td>\n",
       "    </tr>\n",
       "    <tr>\n",
       "      <th>Angora</th>\n",
       "      <td>3.0</td>\n",
       "    </tr>\n",
       "    <tr>\n",
       "      <th>Athína</th>\n",
       "      <td>4.0</td>\n",
       "    </tr>\n",
       "    <tr>\n",
       "      <th>Barcelona</th>\n",
       "      <td>3.0</td>\n",
       "    </tr>\n",
       "    <tr>\n",
       "      <th>Berlin</th>\n",
       "      <td>7.0</td>\n",
       "    </tr>\n",
       "  </tbody>\n",
       "</table>\n",
       "</div>"
      ],
      "text/plain": [
       "           train_routes_per_city\n",
       "Amsterdam                    4.0\n",
       "Angora                       3.0\n",
       "Athína                       4.0\n",
       "Barcelona                    3.0\n",
       "Berlin                       7.0"
      ]
     },
     "execution_count": 207,
     "metadata": {},
     "output_type": "execute_result"
    }
   ],
   "source": [
    "# Creating a new dataframe with each city appearing once to store summary statistics about each city \n",
    "\n",
    "df_city = a.add(b,fill_value=0).to_frame(name='train_routes_per_city')\n",
    "\n",
    "df_city.head()"
   ]
  },
  {
   "cell_type": "code",
   "execution_count": 208,
   "id": "d03ad525",
   "metadata": {},
   "outputs": [
    {
     "data": {
      "text/html": [
       "<div>\n",
       "<style scoped>\n",
       "    .dataframe tbody tr th:only-of-type {\n",
       "        vertical-align: middle;\n",
       "    }\n",
       "\n",
       "    .dataframe tbody tr th {\n",
       "        vertical-align: top;\n",
       "    }\n",
       "\n",
       "    .dataframe thead th {\n",
       "        text-align: right;\n",
       "    }\n",
       "</style>\n",
       "<table border=\"1\" class=\"dataframe\">\n",
       "  <thead>\n",
       "    <tr style=\"text-align: right;\">\n",
       "      <th></th>\n",
       "      <th>city_a</th>\n",
       "      <th>city_b</th>\n",
       "      <th>distance</th>\n",
       "      <th>color</th>\n",
       "      <th>tunnel</th>\n",
       "      <th>ferry</th>\n",
       "      <th>ferry_count</th>\n",
       "    </tr>\n",
       "  </thead>\n",
       "  <tbody>\n",
       "    <tr>\n",
       "      <th>0</th>\n",
       "      <td>Edinburgh</td>\n",
       "      <td>London</td>\n",
       "      <td>4</td>\n",
       "      <td>B</td>\n",
       "      <td>0</td>\n",
       "      <td>0</td>\n",
       "      <td>NaN</td>\n",
       "    </tr>\n",
       "    <tr>\n",
       "      <th>1</th>\n",
       "      <td>Edinburgh</td>\n",
       "      <td>London</td>\n",
       "      <td>4</td>\n",
       "      <td>O</td>\n",
       "      <td>0</td>\n",
       "      <td>0</td>\n",
       "      <td>NaN</td>\n",
       "    </tr>\n",
       "    <tr>\n",
       "      <th>2</th>\n",
       "      <td>London</td>\n",
       "      <td>Dieppe</td>\n",
       "      <td>2</td>\n",
       "      <td>X</td>\n",
       "      <td>0</td>\n",
       "      <td>1</td>\n",
       "      <td>1.0</td>\n",
       "    </tr>\n",
       "    <tr>\n",
       "      <th>3</th>\n",
       "      <td>London</td>\n",
       "      <td>Dieppe</td>\n",
       "      <td>2</td>\n",
       "      <td>X</td>\n",
       "      <td>0</td>\n",
       "      <td>1</td>\n",
       "      <td>1.0</td>\n",
       "    </tr>\n",
       "    <tr>\n",
       "      <th>4</th>\n",
       "      <td>London</td>\n",
       "      <td>Amsterdam</td>\n",
       "      <td>2</td>\n",
       "      <td>X</td>\n",
       "      <td>0</td>\n",
       "      <td>1</td>\n",
       "      <td>2.0</td>\n",
       "    </tr>\n",
       "  </tbody>\n",
       "</table>\n",
       "</div>"
      ],
      "text/plain": [
       "      city_a     city_b  distance color  tunnel  ferry  ferry_count\n",
       "0  Edinburgh     London         4     B       0      0          NaN\n",
       "1  Edinburgh     London         4     O       0      0          NaN\n",
       "2     London     Dieppe         2     X       0      1          1.0\n",
       "3     London     Dieppe         2     X       0      1          1.0\n",
       "4     London  Amsterdam         2     X       0      1          2.0"
      ]
     },
     "execution_count": 208,
     "metadata": {},
     "output_type": "execute_result"
    }
   ],
   "source": [
    "df.head()"
   ]
  },
  {
   "cell_type": "markdown",
   "id": "dd2d0750",
   "metadata": {},
   "source": [
    "## Tunnel Analysis\n",
    "Tunnels are a new addition to the game. The presence of a tunnel on your way from Point A to Point B means you may need to fork over an additional train card in order to make your connection, making them slighly more risky to build. \n",
    "\n",
    "Tunnel routes often appear on routes that would otherwise go through mountains. We see here that Zurich is one of the most difficult cities to reach, with a count of four tunnel routes. "
   ]
  },
  {
   "cell_type": "code",
   "execution_count": 209,
   "id": "e975694c",
   "metadata": {},
   "outputs": [
    {
     "data": {
      "text/plain": [
       "<AxesSubplot:title={'center':'Cities with the most adjacent tunnels'}>"
      ]
     },
     "execution_count": 209,
     "metadata": {},
     "output_type": "execute_result"
    },
    {
     "data": {
      "image/png": "[encoded data removed]",
      "text/plain": [
       "<Figure size 432x288 with 1 Axes>"
      ]
     },
     "metadata": {
      "needs_background": "light"
     },
     "output_type": "display_data"
    }
   ],
   "source": [
    "a = df[df.tunnel == 1].city_a.value_counts()\n",
    "b = df[df.tunnel == 1].city_b.value_counts()\n",
    "\n",
    "\n",
    "# a = df.city_b.value_counts()\n",
    "# b = df.city_a.value_counts()\n",
    "a.add(b,fill_value=0).sort_values(ascending=False).head().plot(kind='bar', title='Cities with the most adjacent tunnels')\n",
    "\n",
    "# NOTE: What would really be interesting is looking at ratio of tunnel tracks vs total tracks \n",
    "# it might be worth making a new df with all of the city names mentioned once with information like this? to track all of the summary stats "
   ]
  },
  {
   "cell_type": "code",
   "execution_count": 210,
   "id": "3624ed7b",
   "metadata": {},
   "outputs": [
    {
     "data": {
      "text/plain": [
       "18"
      ]
     },
     "execution_count": 210,
     "metadata": {},
     "output_type": "execute_result"
    }
   ],
   "source": [
    "df.tunnel.sum()\n",
    "#there are 18 routes that require tunnels"
   ]
  },
  {
   "cell_type": "code",
   "execution_count": 211,
   "id": "26ba7804",
   "metadata": {},
   "outputs": [],
   "source": [
    "df_city['tunnel_count'] = a.add(b,fill_value=0)\n",
    "#df_city"
   ]
  },
  {
   "cell_type": "code",
   "execution_count": 212,
   "id": "db274348",
   "metadata": {},
   "outputs": [
    {
     "data": {
      "text/html": [
       "<div>\n",
       "<style scoped>\n",
       "    .dataframe tbody tr th:only-of-type {\n",
       "        vertical-align: middle;\n",
       "    }\n",
       "\n",
       "    .dataframe tbody tr th {\n",
       "        vertical-align: top;\n",
       "    }\n",
       "\n",
       "    .dataframe thead th {\n",
       "        text-align: right;\n",
       "    }\n",
       "</style>\n",
       "<table border=\"1\" class=\"dataframe\">\n",
       "  <thead>\n",
       "    <tr style=\"text-align: right;\">\n",
       "      <th></th>\n",
       "      <th>city_a</th>\n",
       "      <th>city_b</th>\n",
       "      <th>distance</th>\n",
       "      <th>color</th>\n",
       "      <th>tunnel</th>\n",
       "      <th>ferry</th>\n",
       "      <th>ferry_count</th>\n",
       "    </tr>\n",
       "  </thead>\n",
       "  <tbody>\n",
       "    <tr>\n",
       "      <th>0</th>\n",
       "      <td>Edinburgh</td>\n",
       "      <td>London</td>\n",
       "      <td>4</td>\n",
       "      <td>B</td>\n",
       "      <td>0</td>\n",
       "      <td>0</td>\n",
       "      <td>NaN</td>\n",
       "    </tr>\n",
       "    <tr>\n",
       "      <th>1</th>\n",
       "      <td>Edinburgh</td>\n",
       "      <td>London</td>\n",
       "      <td>4</td>\n",
       "      <td>O</td>\n",
       "      <td>0</td>\n",
       "      <td>0</td>\n",
       "      <td>NaN</td>\n",
       "    </tr>\n",
       "    <tr>\n",
       "      <th>2</th>\n",
       "      <td>London</td>\n",
       "      <td>Dieppe</td>\n",
       "      <td>2</td>\n",
       "      <td>X</td>\n",
       "      <td>0</td>\n",
       "      <td>1</td>\n",
       "      <td>1.0</td>\n",
       "    </tr>\n",
       "    <tr>\n",
       "      <th>3</th>\n",
       "      <td>London</td>\n",
       "      <td>Dieppe</td>\n",
       "      <td>2</td>\n",
       "      <td>X</td>\n",
       "      <td>0</td>\n",
       "      <td>1</td>\n",
       "      <td>1.0</td>\n",
       "    </tr>\n",
       "    <tr>\n",
       "      <th>4</th>\n",
       "      <td>London</td>\n",
       "      <td>Amsterdam</td>\n",
       "      <td>2</td>\n",
       "      <td>X</td>\n",
       "      <td>0</td>\n",
       "      <td>1</td>\n",
       "      <td>2.0</td>\n",
       "    </tr>\n",
       "  </tbody>\n",
       "</table>\n",
       "</div>"
      ],
      "text/plain": [
       "      city_a     city_b  distance color  tunnel  ferry  ferry_count\n",
       "0  Edinburgh     London         4     B       0      0          NaN\n",
       "1  Edinburgh     London         4     O       0      0          NaN\n",
       "2     London     Dieppe         2     X       0      1          1.0\n",
       "3     London     Dieppe         2     X       0      1          1.0\n",
       "4     London  Amsterdam         2     X       0      1          2.0"
      ]
     },
     "execution_count": 212,
     "metadata": {},
     "output_type": "execute_result"
    }
   ],
   "source": [
    "df.head()"
   ]
  },
  {
   "cell_type": "markdown",
   "id": "f6183fb8",
   "metadata": {},
   "source": [
    "## Ferry analysis\n",
    "Ferries are another new feature on Ticket to Ride: Europe. In order to build a ferry route, a player has to have a special \"rainbow\" train card. London, England; Palermo, Italy; and Stevaspol in the Crimean peninsula each have three ferry routes. "
   ]
  },
  {
   "cell_type": "code",
   "execution_count": 213,
   "id": "90a90564",
   "metadata": {},
   "outputs": [
    {
     "data": {
      "text/plain": [
       "<AxesSubplot:title={'center':'Distribution of number of ferry routes of cities requiring at least one ferry'}>"
      ]
     },
     "execution_count": 213,
     "metadata": {},
     "output_type": "execute_result"
    },
    {
     "data": {
      "image/png": "[encoded data removed]",
      "text/plain": [
       "<Figure size 432x288 with 1 Axes>"
      ]
     },
     "metadata": {
      "needs_background": "light"
     },
     "output_type": "display_data"
    }
   ],
   "source": [
    "a = df[df.ferry == 1].city_a.value_counts()\n",
    "b = df[df.ferry == 1].city_b.value_counts()\n",
    "\n",
    "\n",
    "# a = df.city_b.value_counts()\n",
    "# b = df.city_a.value_counts()\n",
    "a.add(b,fill_value=0).sort_values(ascending=False).plot(kind='bar', title='Distribution of number of ferry routes of cities requiring at least one ferry')\n",
    "\n",
    "# NOTE: same as above for ratio to ferry routes vs total routes for each city "
   ]
  },
  {
   "cell_type": "code",
   "execution_count": 217,
   "id": "95e26e36",
   "metadata": {},
   "outputs": [],
   "source": [
    "df_city['ferry_route_count'] = a.add(b,fill_value=0)\n",
    "df_city.to_csv('Europe_city_info.csv')"
   ]
  },
  {
   "cell_type": "code",
   "execution_count": 131,
   "id": "1e0a3dde",
   "metadata": {},
   "outputs": [
    {
     "data": {
      "text/plain": [
       "17.0"
      ]
     },
     "execution_count": 131,
     "metadata": {},
     "output_type": "execute_result"
    }
   ],
   "source": [
    "df.ferry.sum()\n",
    "#there are 13 routes that require ferries\n",
    "df.ferry_count.sum()\n",
    "# And there are 17 total ferries needed on the board (17 ferries spread over 13 routes)"
   ]
  },
  {
   "cell_type": "markdown",
   "id": "ba71dd9b",
   "metadata": {},
   "source": [
    "## Distribution of route lengths (measured in train cars)\n",
    "While also difficult to look at, this plot shows the distribution of route lengths. We can see that the vast majority of routes require between two and four train cars, while the longest route between Stockholm, Sweeden and St. Petersburg, Russia (labeled as \"Petrograd\" on the board) requires eight train cars and can earn a single player 21 points.  "
   ]
  },
  {
   "cell_type": "code",
   "execution_count": 152,
   "id": "ec584f9c",
   "metadata": {},
   "outputs": [
    {
     "data": {
      "image/png": "[encoded data removed]",
      "text/plain": [
       "<Figure size 640x480 with 1 Axes>"
      ]
     },
     "metadata": {},
     "output_type": "display_data"
    },
    {
     "data": {
      "text/plain": [
       "<ggplot: (300176267)>"
      ]
     },
     "execution_count": 152,
     "metadata": {},
     "output_type": "execute_result"
    }
   ],
   "source": [
    "from plotnine import ggplot, aes, geom_point, facet_wrap, theme_void\n",
    "\n",
    "(\n",
    "    ggplot(df,\n",
    "          aes('city_a', 'distance'))\n",
    "        + geom_point()\n",
    ")\n",
    "\n"
   ]
  },
  {
   "cell_type": "markdown",
   "id": "e54b7cd8",
   "metadata": {},
   "source": [
    "## Adding in Tunnels to the above\n",
    "Here we see the same plot, but by routes that require tunnels and those that do not."
   ]
  },
  {
   "cell_type": "code",
   "execution_count": 6,
   "id": "9cde0c77",
   "metadata": {},
   "outputs": [
    {
     "data": {
      "image/png": "[encoded data removed]",
      "text/plain": [
       "<Figure size 640x480 with 2 Axes>"
      ]
     },
     "metadata": {},
     "output_type": "display_data"
    },
    {
     "data": {
      "text/plain": [
       "<ggplot: (284374419)>"
      ]
     },
     "execution_count": 6,
     "metadata": {},
     "output_type": "execute_result"
    }
   ],
   "source": [
    "\n",
    "from plotnine import ggplot, aes, geom_point, facet_wrap\n",
    "\n",
    "(\n",
    "    ggplot(df,\n",
    "          aes('city_a', 'distance'))\n",
    "        + geom_point()\n",
    "        + facet_wrap('tunnel')\n",
    ")"
   ]
  },
  {
   "cell_type": "code",
   "execution_count": 156,
   "id": "d7a2131a",
   "metadata": {},
   "outputs": [
    {
     "data": {
      "image/png": "[encoded data removed]",
      "text/plain": [
       "<Figure size 640x480 with 2 Axes>"
      ]
     },
     "metadata": {},
     "output_type": "display_data"
    },
    {
     "data": {
      "text/plain": [
       "<ggplot: (300572597)>"
      ]
     },
     "execution_count": 156,
     "metadata": {},
     "output_type": "execute_result"
    }
   ],
   "source": [
    "# This shows the distribution of route lengths, separated by \"Ferry\" routes and non-ferry routes\n",
    "    # Ferry routes require a rainbow locamotive in order to build  \n",
    "        # I've also added a color for the \"Tunnel\" category; there are no Ferry routes that are also Tunnels\n",
    "            # This makes sense! Why would you need a boat and an underground train at the same time, afterall? \n",
    "        \n",
    "#COME BACK: is color in the right place?\n",
    "\n",
    "from plotnine import ggplot, aes, geom_point, facet_wrap\n",
    "\n",
    "(\n",
    "    ggplot(df,\n",
    "          aes('city_a', 'distance', color='tunnel'))\n",
    "        + geom_point()\n",
    "        + facet_wrap('ferry')\n",
    ")"
   ]
  }
 ],
 "metadata": {
  "kernelspec": {
   "display_name": "Python 3 (ipykernel)",
   "language": "python",
   "name": "python3"
  },
  "language_info": {
   "codemirror_mode": {
    "name": "ipython",
    "version": 3
   },
   "file_extension": ".py",
   "mimetype": "text/x-python",
   "name": "python",
   "nbconvert_exporter": "python",
   "pygments_lexer": "ipython3",
   "version": "3.10.0"
  }
 },
 "nbformat": 4,
 "nbformat_minor": 5
}
