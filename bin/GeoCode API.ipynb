{
 "cells": [
  {
   "cell_type": "markdown",
   "id": "6ed5578a",
   "metadata": {},
   "source": [
    "# Using Google Geocoding API to get lat and long info for cities\n",
    "\n",
    "**NOTE TO SELF** this notebook contains an API Key -- fix that before you post"
   ]
  },
  {
   "cell_type": "code",
   "execution_count": 18,
   "id": "c66ace35",
   "metadata": {},
   "outputs": [
    {
     "data": {
      "text/plain": [
       "True"
      ]
     },
     "execution_count": 18,
     "metadata": {},
     "output_type": "execute_result"
    }
   ],
   "source": [
    "from dotenv import load_dotenv\n",
    "import os\n",
    "load_dotenv() \n"
   ]
  },
  {
   "cell_type": "code",
   "execution_count": 19,
   "id": "6b651f0e",
   "metadata": {},
   "outputs": [],
   "source": [
    "import pandas as pd\n",
    "import requests"
   ]
  },
  {
   "cell_type": "markdown",
   "id": "90f78323",
   "metadata": {},
   "source": [
    "## Testing out the Google GeoCode API to grab the information I will need for all the cities on the Europe board with a single city\n",
    "Here, we are using Paris as an example"
   ]
  },
  {
   "cell_type": "code",
   "execution_count": 23,
   "id": "3d1be8e8",
   "metadata": {},
   "outputs": [],
   "source": [
    "api_key = os.getenv('api_key')\n",
    "address = 'Paris, France'"
   ]
  },
  {
   "cell_type": "code",
   "execution_count": 24,
   "id": "82ff70a4",
   "metadata": {},
   "outputs": [
    {
     "data": {
      "text/plain": [
       "[{'address_components': [{'long_name': 'Paris',\n",
       "    'short_name': 'Paris',\n",
       "    'types': ['locality', 'political']},\n",
       "   {'long_name': 'Paris',\n",
       "    'short_name': 'Paris',\n",
       "    'types': ['administrative_area_level_2', 'political']},\n",
       "   {'long_name': 'Île-de-France',\n",
       "    'short_name': 'IDF',\n",
       "    'types': ['administrative_area_level_1', 'political']},\n",
       "   {'long_name': 'France',\n",
       "    'short_name': 'FR',\n",
       "    'types': ['country', 'political']}],\n",
       "  'formatted_address': 'Paris, France',\n",
       "  'geometry': {'bounds': {'northeast': {'lat': 48.9021475, 'lng': 2.4698509},\n",
       "    'southwest': {'lat': 48.8155622, 'lng': 2.2242191}},\n",
       "   'location': {'lat': 48.856614, 'lng': 2.3522219},\n",
       "   'location_type': 'APPROXIMATE',\n",
       "   'viewport': {'northeast': {'lat': 48.9021475, 'lng': 2.4698509},\n",
       "    'southwest': {'lat': 48.8155622, 'lng': 2.2242191}}},\n",
       "  'place_id': 'ChIJD7fiBh9u5kcRYJSMaMOCCwQ',\n",
       "  'types': ['locality', 'political']}]"
      ]
     },
     "execution_count": 24,
     "metadata": {},
     "output_type": "execute_result"
    }
   ],
   "source": [
    "params = {\n",
    "    'key': api_key,\n",
    "    'address': address\n",
    "}\n",
    "\n",
    "url = 'https://maps.googleapis.com/maps/api/geocode/json?'\n",
    "response = requests.get(url, params=params)\n",
    "response.json()['results']"
   ]
  },
  {
   "cell_type": "markdown",
   "id": "9f8598be",
   "metadata": {},
   "source": [
    "### Grabbing the latitude and longitude from the API request"
   ]
  },
  {
   "cell_type": "code",
   "execution_count": 26,
   "id": "194dea78",
   "metadata": {},
   "outputs": [
    {
     "data": {
      "text/plain": [
       "2.3522219"
      ]
     },
     "execution_count": 26,
     "metadata": {},
     "output_type": "execute_result"
    }
   ],
   "source": [
    "#lat \n",
    "response.json()['results'][0]['geometry']['location']['lat']\n",
    "\n",
    "#long\n",
    "response.json()['results'][0]['geometry']['location']['lng']"
   ]
  },
  {
   "cell_type": "markdown",
   "id": "f4721deb",
   "metadata": {},
   "source": [
    "### Grabbing country name just in case we need that later \n"
   ]
  },
  {
   "cell_type": "code",
   "execution_count": 27,
   "id": "53a50369",
   "metadata": {},
   "outputs": [
    {
     "data": {
      "text/plain": [
       "'FR'"
      ]
     },
     "execution_count": 27,
     "metadata": {},
     "output_type": "execute_result"
    }
   ],
   "source": [
    "response.json()['results'][0]['formatted_address']\n",
    "\n",
    "#or, use these to get the full name of the country or the \"short name,\" which I assume is its 2-letter country code \n",
    "response.json()['results'][0]['address_components'][3]['long_name']\n",
    "response.json()['results'][0]['address_components'][3]['short_name']"
   ]
  },
  {
   "cell_type": "markdown",
   "id": "b32c9584",
   "metadata": {},
   "source": [
    "## Now we are going to grab these results for a list of cities and add them to our dataframe\n"
   ]
  },
  {
   "cell_type": "code",
   "execution_count": 28,
   "id": "86f5a173",
   "metadata": {},
   "outputs": [
    {
     "data": {
      "text/html": [
       "<div>\n",
       "<style scoped>\n",
       "    .dataframe tbody tr th:only-of-type {\n",
       "        vertical-align: middle;\n",
       "    }\n",
       "\n",
       "    .dataframe tbody tr th {\n",
       "        vertical-align: top;\n",
       "    }\n",
       "\n",
       "    .dataframe thead th {\n",
       "        text-align: right;\n",
       "    }\n",
       "</style>\n",
       "<table border=\"1\" class=\"dataframe\">\n",
       "  <thead>\n",
       "    <tr style=\"text-align: right;\">\n",
       "      <th></th>\n",
       "      <th>City A</th>\n",
       "      <th>Formatted City A</th>\n",
       "      <th>City B</th>\n",
       "      <th>Formatted City B</th>\n",
       "      <th>Points</th>\n",
       "      <th>Long_Regular</th>\n",
       "      <th>Category</th>\n",
       "    </tr>\n",
       "  </thead>\n",
       "  <tbody>\n",
       "    <tr>\n",
       "      <th>0</th>\n",
       "      <td>Brest</td>\n",
       "      <td>Brest, France</td>\n",
       "      <td>Petrograd</td>\n",
       "      <td>Saint Petersburg, Russia</td>\n",
       "      <td>20</td>\n",
       "      <td>1</td>\n",
       "      <td>Long</td>\n",
       "    </tr>\n",
       "    <tr>\n",
       "      <th>1</th>\n",
       "      <td>Lisboa</td>\n",
       "      <td>Lisbon, Portugal</td>\n",
       "      <td>Danzic</td>\n",
       "      <td>Gdansk, Poland</td>\n",
       "      <td>20</td>\n",
       "      <td>1</td>\n",
       "      <td>Long</td>\n",
       "    </tr>\n",
       "    <tr>\n",
       "      <th>2</th>\n",
       "      <td>Palermo</td>\n",
       "      <td>Palermo, Italy</td>\n",
       "      <td>Moskva</td>\n",
       "      <td>Moscow, Russia</td>\n",
       "      <td>20</td>\n",
       "      <td>1</td>\n",
       "      <td>Long</td>\n",
       "    </tr>\n",
       "    <tr>\n",
       "      <th>3</th>\n",
       "      <td>Kobenhavn</td>\n",
       "      <td>Copenhagen, Denmark</td>\n",
       "      <td>Erzurum</td>\n",
       "      <td>Erzurum, Turkey</td>\n",
       "      <td>21</td>\n",
       "      <td>1</td>\n",
       "      <td>Long</td>\n",
       "    </tr>\n",
       "    <tr>\n",
       "      <th>4</th>\n",
       "      <td>Edinburgh</td>\n",
       "      <td>Edinburgh, Scotland</td>\n",
       "      <td>Athína</td>\n",
       "      <td>Athens, Greece</td>\n",
       "      <td>21</td>\n",
       "      <td>1</td>\n",
       "      <td>Long</td>\n",
       "    </tr>\n",
       "  </tbody>\n",
       "</table>\n",
       "</div>"
      ],
      "text/plain": [
       "      City A     Formatted City A     City B          Formatted City B  \\\n",
       "0      Brest        Brest, France  Petrograd  Saint Petersburg, Russia   \n",
       "1     Lisboa     Lisbon, Portugal     Danzic            Gdansk, Poland   \n",
       "2    Palermo       Palermo, Italy     Moskva            Moscow, Russia   \n",
       "3  Kobenhavn  Copenhagen, Denmark    Erzurum           Erzurum, Turkey   \n",
       "4  Edinburgh  Edinburgh, Scotland     Athína            Athens, Greece   \n",
       "\n",
       "   Points  Long_Regular Category  \n",
       "0      20             1     Long  \n",
       "1      20             1     Long  \n",
       "2      20             1     Long  \n",
       "3      21             1     Long  \n",
       "4      21             1     Long  "
      ]
     },
     "execution_count": 28,
     "metadata": {},
     "output_type": "execute_result"
    }
   ],
   "source": [
    "import pandas as pd\n",
    "import numpy as np \n",
    "\n",
    "df = pd.read_csv(\"tickets.csv\")\n",
    "df.head()"
   ]
  },
  {
   "cell_type": "code",
   "execution_count": 29,
   "id": "52725a62",
   "metadata": {},
   "outputs": [],
   "source": [
    "df.columns = df.columns.str.lower().str.replace(' ', '_')"
   ]
  },
  {
   "cell_type": "markdown",
   "id": "652707a0",
   "metadata": {},
   "source": [
    "### Here, we are testing the API request by converting the city_a column to a list and running it through the API \n"
   ]
  },
  {
   "cell_type": "code",
   "execution_count": 30,
   "id": "13ca4695",
   "metadata": {},
   "outputs": [
    {
     "name": "stdout",
     "output_type": "stream",
     "text": [
      "48.856614\n",
      "Brest\n",
      "----\n",
      "48.856614\n",
      "Lisboa\n",
      "----\n",
      "48.856614\n",
      "Palermo\n",
      "----\n"
     ]
    }
   ],
   "source": [
    "cities_a = df['city_a'].tolist()\n",
    "for city in cities_a[:3]: \n",
    "    address = city \n",
    "    url = 'https://maps.googleapis.com/maps/api/geocode/json?'\n",
    "    response = requests.get(url, params=params)\n",
    "    print(response.json()['results'][0]['geometry']['location']['lat'])\n",
    "    print(address)\n",
    "    print('----')"
   ]
  },
  {
   "cell_type": "markdown",
   "id": "2ac2c863",
   "metadata": {},
   "source": [
    "## Coverting my dataframe *BACK* into a list of dictionaries, so I can more easily add the new values I want: \n",
    "   * lat\n",
    "   * long\n",
    "   * country\n",
    "   * country code (just in case)"
   ]
  },
  {
   "cell_type": "code",
   "execution_count": 31,
   "id": "4dcf4138",
   "metadata": {},
   "outputs": [],
   "source": [
    "tickets = df.to_dict('records') \n",
    "#tickets"
   ]
  },
  {
   "cell_type": "code",
   "execution_count": 32,
   "id": "f2de2b4a",
   "metadata": {},
   "outputs": [],
   "source": [
    "# for ticket in tickets: \n",
    "#     print(ticket['formatted_city_a'])\n",
    "#     print('----')\n",
    "#     print(ticket['formatted_city_b'])\n",
    "#     print('----')\n"
   ]
  },
  {
   "cell_type": "markdown",
   "id": "ff7f3fd8",
   "metadata": {},
   "source": [
    "## Running the API request for all origin cities"
   ]
  },
  {
   "cell_type": "code",
   "execution_count": 34,
   "id": "7d30a207",
   "metadata": {},
   "outputs": [],
   "source": [
    "#Here, we are appending the lat and long for every city_a\n",
    "\n",
    "for ticket in tickets: \n",
    "    address = ticket['formatted_city_a']\n",
    "    api_key = os.getenv('api_key')\n",
    "    params = {\n",
    "    'key': api_key,\n",
    "    'address': address}\n",
    "    url = 'https://maps.googleapis.com/maps/api/geocode/json?'\n",
    "    response = requests.get(url, params=params)\n",
    "    data = response.json()['results'][0]\n",
    "    try: \n",
    "        ticket['lat_city_a'] = data['geometry']['location']['lat']\n",
    "        ticket['long_city_a'] = data['geometry']['location']['lng']\n",
    "#         print(address)\n",
    "#         print(ticket['long_city_a'])\n",
    "#         print(ticket['lat_city_a'])\n",
    "#         print('---')\n",
    "    except: \n",
    "#        print('problem!!')\n",
    "        pass\n",
    "    \n",
    "\n"
   ]
  },
  {
   "cell_type": "markdown",
   "id": "66cbe03b",
   "metadata": {},
   "source": [
    "## Running the API request for all destination cities"
   ]
  },
  {
   "cell_type": "code",
   "execution_count": 35,
   "id": "e6357d07",
   "metadata": {},
   "outputs": [],
   "source": [
    "#And here, we are appending the lat and long for every city_b\n",
    "\n",
    "\n",
    "for ticket in tickets: \n",
    "    address = ticket['formatted_city_b']\n",
    "#    print(address)\n",
    "    api_key = os.getenv('api_key')\n",
    "    params = {\n",
    "    'key': api_key,\n",
    "    'address': address}\n",
    "    url = 'https://maps.googleapis.com/maps/api/geocode/json?'\n",
    "    response = requests.get(url, params=params)\n",
    "    data = response.json()['results'][0]\n",
    "    ticket['lat_city_b'] = data['geometry']['location']['lat']\n",
    "    ticket['long_city_b'] = data['geometry']['location']['lng']\n",
    "#     print(address)\n",
    "#     print(ticket['lat_city_b'])\n",
    "#     print(ticket['long_city_b'])\n",
    "#     print('---')\n"
   ]
  },
  {
   "cell_type": "code",
   "execution_count": 36,
   "id": "3a0bb051",
   "metadata": {},
   "outputs": [],
   "source": [
    "df = pd.DataFrame(tickets)"
   ]
  },
  {
   "cell_type": "markdown",
   "id": "968c05c9",
   "metadata": {},
   "source": [
    "### And now we have our new df with location data! \n"
   ]
  },
  {
   "cell_type": "code",
   "execution_count": 38,
   "id": "b63f4cad",
   "metadata": {},
   "outputs": [
    {
     "data": {
      "text/html": [
       "<div>\n",
       "<style scoped>\n",
       "    .dataframe tbody tr th:only-of-type {\n",
       "        vertical-align: middle;\n",
       "    }\n",
       "\n",
       "    .dataframe tbody tr th {\n",
       "        vertical-align: top;\n",
       "    }\n",
       "\n",
       "    .dataframe thead th {\n",
       "        text-align: right;\n",
       "    }\n",
       "</style>\n",
       "<table border=\"1\" class=\"dataframe\">\n",
       "  <thead>\n",
       "    <tr style=\"text-align: right;\">\n",
       "      <th></th>\n",
       "      <th>city_a</th>\n",
       "      <th>formatted_city_a</th>\n",
       "      <th>city_b</th>\n",
       "      <th>formatted_city_b</th>\n",
       "      <th>points</th>\n",
       "      <th>long_regular</th>\n",
       "      <th>category</th>\n",
       "      <th>lat_city_a</th>\n",
       "      <th>long_city_a</th>\n",
       "      <th>lat_city_b</th>\n",
       "      <th>long_city_b</th>\n",
       "    </tr>\n",
       "  </thead>\n",
       "  <tbody>\n",
       "    <tr>\n",
       "      <th>0</th>\n",
       "      <td>Brest</td>\n",
       "      <td>Brest, France</td>\n",
       "      <td>Petrograd</td>\n",
       "      <td>Saint Petersburg, Russia</td>\n",
       "      <td>20</td>\n",
       "      <td>1</td>\n",
       "      <td>Long</td>\n",
       "      <td>48.390394</td>\n",
       "      <td>-4.486076</td>\n",
       "      <td>59.931058</td>\n",
       "      <td>30.360910</td>\n",
       "    </tr>\n",
       "    <tr>\n",
       "      <th>1</th>\n",
       "      <td>Lisboa</td>\n",
       "      <td>Lisbon, Portugal</td>\n",
       "      <td>Danzic</td>\n",
       "      <td>Gdansk, Poland</td>\n",
       "      <td>20</td>\n",
       "      <td>1</td>\n",
       "      <td>Long</td>\n",
       "      <td>38.722252</td>\n",
       "      <td>-9.139337</td>\n",
       "      <td>54.352025</td>\n",
       "      <td>18.646638</td>\n",
       "    </tr>\n",
       "    <tr>\n",
       "      <th>2</th>\n",
       "      <td>Palermo</td>\n",
       "      <td>Palermo, Italy</td>\n",
       "      <td>Moskva</td>\n",
       "      <td>Moscow, Russia</td>\n",
       "      <td>20</td>\n",
       "      <td>1</td>\n",
       "      <td>Long</td>\n",
       "      <td>38.115690</td>\n",
       "      <td>13.361487</td>\n",
       "      <td>55.755826</td>\n",
       "      <td>37.617300</td>\n",
       "    </tr>\n",
       "    <tr>\n",
       "      <th>3</th>\n",
       "      <td>Kobenhavn</td>\n",
       "      <td>Copenhagen, Denmark</td>\n",
       "      <td>Erzurum</td>\n",
       "      <td>Erzurum, Turkey</td>\n",
       "      <td>21</td>\n",
       "      <td>1</td>\n",
       "      <td>Long</td>\n",
       "      <td>55.676097</td>\n",
       "      <td>12.568337</td>\n",
       "      <td>39.905499</td>\n",
       "      <td>41.265824</td>\n",
       "    </tr>\n",
       "    <tr>\n",
       "      <th>4</th>\n",
       "      <td>Edinburgh</td>\n",
       "      <td>Edinburgh, Scotland</td>\n",
       "      <td>Athína</td>\n",
       "      <td>Athens, Greece</td>\n",
       "      <td>21</td>\n",
       "      <td>1</td>\n",
       "      <td>Long</td>\n",
       "      <td>55.953252</td>\n",
       "      <td>-3.188267</td>\n",
       "      <td>37.983810</td>\n",
       "      <td>23.727539</td>\n",
       "    </tr>\n",
       "  </tbody>\n",
       "</table>\n",
       "</div>"
      ],
      "text/plain": [
       "      city_a     formatted_city_a     city_b          formatted_city_b  \\\n",
       "0      Brest        Brest, France  Petrograd  Saint Petersburg, Russia   \n",
       "1     Lisboa     Lisbon, Portugal     Danzic            Gdansk, Poland   \n",
       "2    Palermo       Palermo, Italy     Moskva            Moscow, Russia   \n",
       "3  Kobenhavn  Copenhagen, Denmark    Erzurum           Erzurum, Turkey   \n",
       "4  Edinburgh  Edinburgh, Scotland     Athína            Athens, Greece   \n",
       "\n",
       "   points  long_regular category  lat_city_a  long_city_a  lat_city_b  \\\n",
       "0      20             1     Long   48.390394    -4.486076   59.931058   \n",
       "1      20             1     Long   38.722252    -9.139337   54.352025   \n",
       "2      20             1     Long   38.115690    13.361487   55.755826   \n",
       "3      21             1     Long   55.676097    12.568337   39.905499   \n",
       "4      21             1     Long   55.953252    -3.188267   37.983810   \n",
       "\n",
       "   long_city_b  \n",
       "0    30.360910  \n",
       "1    18.646638  \n",
       "2    37.617300  \n",
       "3    41.265824  \n",
       "4    23.727539  "
      ]
     },
     "execution_count": 38,
     "metadata": {},
     "output_type": "execute_result"
    }
   ],
   "source": [
    "df.head()"
   ]
  },
  {
   "cell_type": "code",
   "execution_count": 39,
   "id": "e9ea2240",
   "metadata": {},
   "outputs": [],
   "source": [
    "#df.to_csv('tickets_latlong.csv', index=False)"
   ]
  },
  {
   "cell_type": "markdown",
   "id": "72dbd820",
   "metadata": {},
   "source": [
    "# Applying the same API request for to Europe_city_info.csv"
   ]
  },
  {
   "cell_type": "code",
   "execution_count": 43,
   "id": "7bda251f",
   "metadata": {},
   "outputs": [
    {
     "name": "stderr",
     "output_type": "stream",
     "text": [
      "/var/folders/qx/nkh2pq6x3_193757ddxvrcf40000gp/T/ipykernel_18210/4227922560.py:4: FutureWarning: In a future version of pandas all arguments of DataFrame.drop except for the argument 'labels' will be keyword-only\n",
      "  df = df.drop(['train_routes_per_city', 'tunnel_count','ferry_route_count', 'city'], 1)\n"
     ]
    }
   ],
   "source": [
    "import pandas as pd\n",
    "import requests\n",
    "df = pd.read_csv('Europe_city_info_formatted.csv')\n",
    "df = df.drop(['train_routes_per_city', 'tunnel_count','ferry_route_count', 'city'], 1)\n",
    "cities = df.to_dict('records') \n"
   ]
  },
  {
   "cell_type": "code",
   "execution_count": 44,
   "id": "abee6d1a",
   "metadata": {},
   "outputs": [],
   "source": [
    "\n",
    "for city in cities: \n",
    "    address = city['city_formatted']\n",
    "    api_key = os.getenv('api_key')\n",
    "    params = {\n",
    "    'key': api_key,\n",
    "    'address': address}\n",
    "    url = 'https://maps.googleapis.com/maps/api/geocode/json?'\n",
    "    response = requests.get(url, params=params)\n",
    "    data = response.json()['results'][0]\n",
    "    city['lat_city'] = data['geometry']['location']['lat']\n",
    "    city['long_city'] = data['geometry']['location']['lng']\n",
    "#     print(address)\n",
    "#     print(city['lat_city'])\n",
    "#     print(city['long_city'])\n",
    "#     print('---')\n",
    "\n"
   ]
  },
  {
   "cell_type": "code",
   "execution_count": 45,
   "id": "ef975134",
   "metadata": {},
   "outputs": [],
   "source": [
    "df = pd.DataFrame(cities)\n"
   ]
  },
  {
   "cell_type": "code",
   "execution_count": 46,
   "id": "21058e26",
   "metadata": {},
   "outputs": [],
   "source": [
    "#df.to_csv('cities.csv', index=False)"
   ]
  },
  {
   "cell_type": "markdown",
   "id": "4a61ad86",
   "metadata": {},
   "source": [
    "# Now feeding routes.csv into API "
   ]
  },
  {
   "cell_type": "code",
   "execution_count": 47,
   "id": "36bccb82",
   "metadata": {},
   "outputs": [],
   "source": [
    "df_routes = pd.read_csv('routes.csv')\n",
    "df_routes.columns = df_routes.columns.str.lower().str.replace(' ', '_')\n",
    "df_routes.head()\n",
    "routes = df_routes.to_dict('records')\n"
   ]
  },
  {
   "cell_type": "code",
   "execution_count": 47,
   "id": "79bf741d",
   "metadata": {},
   "outputs": [],
   "source": [
    "for route in routes: \n",
    "    address = route['city_a_formatted']\n",
    "    api_key = os.getenv('api_key')\n",
    "    params = {\n",
    "    'key': api_key,\n",
    "    'address': address}\n",
    "    url = 'https://maps.googleapis.com/maps/api/geocode/json?'\n",
    "    response = requests.get(url, params=params)\n",
    "    data = response.json()['results'][0]\n",
    "    route['lat_city_a'] = data['geometry']['location']['lat']\n",
    "    route['long_city_a'] = data['geometry']['location']['lng']"
   ]
  },
  {
   "cell_type": "code",
   "execution_count": 48,
   "id": "5899fa33",
   "metadata": {},
   "outputs": [],
   "source": [
    "for route in routes: \n",
    "    address = route['city_b_formatted']\n",
    "    api_key = os.getenv('api_key')\n",
    "    params = {\n",
    "    'key': api_key,\n",
    "    'address': address}\n",
    "    url = 'https://maps.googleapis.com/maps/api/geocode/json?'\n",
    "    response = requests.get(url, params=params)\n",
    "    data = response.json()['results'][0]\n",
    "    route['lat_city_b'] = data['geometry']['location']['lat']\n",
    "    route['long_city_b'] = data['geometry']['location']['lng']"
   ]
  },
  {
   "cell_type": "code",
   "execution_count": 50,
   "id": "3f8749fb",
   "metadata": {},
   "outputs": [],
   "source": [
    "df = pd.DataFrame(routes)"
   ]
  },
  {
   "cell_type": "code",
   "execution_count": 51,
   "id": "5023a999",
   "metadata": {},
   "outputs": [],
   "source": [
    "#df.to_csv('routes.csv', index=False)"
   ]
  },
  {
   "cell_type": "code",
   "execution_count": null,
   "id": "3d5cd644",
   "metadata": {},
   "outputs": [],
   "source": []
  }
 ],
 "metadata": {
  "kernelspec": {
   "display_name": "Python 3 (ipykernel)",
   "language": "python",
   "name": "python3"
  },
  "language_info": {
   "codemirror_mode": {
    "name": "ipython",
    "version": 3
   },
   "file_extension": ".py",
   "mimetype": "text/x-python",
   "name": "python",
   "nbconvert_exporter": "python",
   "pygments_lexer": "ipython3",
   "version": "3.10.0"
  }
 },
 "nbformat": 4,
 "nbformat_minor": 5
}
