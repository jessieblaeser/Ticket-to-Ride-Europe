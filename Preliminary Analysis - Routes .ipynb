{
 "cells": [
  {
   "cell_type": "code",
   "execution_count": 198,
   "id": "a48b4816",
   "metadata": {},
   "outputs": [],
   "source": [
    "#https://stackoverflow.com/questions/58536436/finding-the-shortest-distance-between-two-points-python"
   ]
  },
  {
   "cell_type": "code",
   "execution_count": 199,
   "id": "d8d62997",
   "metadata": {},
   "outputs": [],
   "source": [
    "import pandas as pd\n",
    "import numpy as np\n"
   ]
  },
  {
   "cell_type": "code",
   "execution_count": 200,
   "id": "197f4fee",
   "metadata": {},
   "outputs": [],
   "source": [
    "df = pd.read_csv('routes.csv')"
   ]
  },
  {
   "cell_type": "code",
   "execution_count": 201,
   "id": "9a8bfa84",
   "metadata": {},
   "outputs": [
    {
     "data": {
      "text/html": [
       "<div>\n",
       "<style scoped>\n",
       "    .dataframe tbody tr th:only-of-type {\n",
       "        vertical-align: middle;\n",
       "    }\n",
       "\n",
       "    .dataframe tbody tr th {\n",
       "        vertical-align: top;\n",
       "    }\n",
       "\n",
       "    .dataframe thead th {\n",
       "        text-align: right;\n",
       "    }\n",
       "</style>\n",
       "<table border=\"1\" class=\"dataframe\">\n",
       "  <thead>\n",
       "    <tr style=\"text-align: right;\">\n",
       "      <th></th>\n",
       "      <th>city_a</th>\n",
       "      <th>city_b</th>\n",
       "      <th>distance</th>\n",
       "      <th>color</th>\n",
       "      <th>tunnel</th>\n",
       "      <th>ferry</th>\n",
       "      <th>ferry_count</th>\n",
       "    </tr>\n",
       "  </thead>\n",
       "  <tbody>\n",
       "    <tr>\n",
       "      <th>0</th>\n",
       "      <td>Edinburgh</td>\n",
       "      <td>London</td>\n",
       "      <td>4</td>\n",
       "      <td>B</td>\n",
       "      <td>0</td>\n",
       "      <td>0</td>\n",
       "      <td>NaN</td>\n",
       "    </tr>\n",
       "    <tr>\n",
       "      <th>1</th>\n",
       "      <td>Edinburgh</td>\n",
       "      <td>London</td>\n",
       "      <td>4</td>\n",
       "      <td>O</td>\n",
       "      <td>0</td>\n",
       "      <td>0</td>\n",
       "      <td>NaN</td>\n",
       "    </tr>\n",
       "    <tr>\n",
       "      <th>2</th>\n",
       "      <td>London</td>\n",
       "      <td>Dieppe</td>\n",
       "      <td>2</td>\n",
       "      <td>X</td>\n",
       "      <td>0</td>\n",
       "      <td>1</td>\n",
       "      <td>1.0</td>\n",
       "    </tr>\n",
       "    <tr>\n",
       "      <th>3</th>\n",
       "      <td>London</td>\n",
       "      <td>Dieppe</td>\n",
       "      <td>2</td>\n",
       "      <td>X</td>\n",
       "      <td>0</td>\n",
       "      <td>1</td>\n",
       "      <td>1.0</td>\n",
       "    </tr>\n",
       "    <tr>\n",
       "      <th>4</th>\n",
       "      <td>London</td>\n",
       "      <td>Amsterdam</td>\n",
       "      <td>2</td>\n",
       "      <td>X</td>\n",
       "      <td>0</td>\n",
       "      <td>1</td>\n",
       "      <td>2.0</td>\n",
       "    </tr>\n",
       "  </tbody>\n",
       "</table>\n",
       "</div>"
      ],
      "text/plain": [
       "      city_a     city_b  distance color  tunnel  ferry  ferry_count\n",
       "0  Edinburgh     London         4     B       0      0          NaN\n",
       "1  Edinburgh     London         4     O       0      0          NaN\n",
       "2     London     Dieppe         2     X       0      1          1.0\n",
       "3     London     Dieppe         2     X       0      1          1.0\n",
       "4     London  Amsterdam         2     X       0      1          2.0"
      ]
     },
     "execution_count": 201,
     "metadata": {},
     "output_type": "execute_result"
    }
   ],
   "source": [
    "df.head()\n",
    "df.columns = df.columns.str.lower().str.replace(' ', '_')\n",
    "df.columns\n",
    "df.head()"
   ]
  },
  {
   "cell_type": "markdown",
   "id": "2ed35380",
   "metadata": {},
   "source": [
    "# Preliminary Analysis\n",
    "### Counting the cities with the most train traffic \n",
    "i.e. The most train routes in and out of the city"
   ]
  },
  {
   "cell_type": "code",
   "execution_count": 202,
   "id": "f413b8b6",
   "metadata": {},
   "outputs": [
    {
     "data": {
      "text/html": [
       "<div>\n",
       "<style scoped>\n",
       "    .dataframe tbody tr th:only-of-type {\n",
       "        vertical-align: middle;\n",
       "    }\n",
       "\n",
       "    .dataframe tbody tr th {\n",
       "        vertical-align: top;\n",
       "    }\n",
       "\n",
       "    .dataframe thead th {\n",
       "        text-align: right;\n",
       "    }\n",
       "</style>\n",
       "<table border=\"1\" class=\"dataframe\">\n",
       "  <thead>\n",
       "    <tr style=\"text-align: right;\">\n",
       "      <th></th>\n",
       "      <th>city_a</th>\n",
       "      <th>city_b</th>\n",
       "      <th>distance</th>\n",
       "      <th>color</th>\n",
       "      <th>tunnel</th>\n",
       "      <th>ferry</th>\n",
       "      <th>ferry_count</th>\n",
       "    </tr>\n",
       "  </thead>\n",
       "  <tbody>\n",
       "    <tr>\n",
       "      <th>23</th>\n",
       "      <td>Paris</td>\n",
       "      <td>Zürich</td>\n",
       "      <td>3</td>\n",
       "      <td>X</td>\n",
       "      <td>1</td>\n",
       "      <td>0</td>\n",
       "      <td>NaN</td>\n",
       "    </tr>\n",
       "    <tr>\n",
       "      <th>24</th>\n",
       "      <td>Paris</td>\n",
       "      <td>Bruxelles</td>\n",
       "      <td>2</td>\n",
       "      <td>Y</td>\n",
       "      <td>0</td>\n",
       "      <td>0</td>\n",
       "      <td>NaN</td>\n",
       "    </tr>\n",
       "    <tr>\n",
       "      <th>25</th>\n",
       "      <td>Paris</td>\n",
       "      <td>Bruxelles</td>\n",
       "      <td>2</td>\n",
       "      <td>R</td>\n",
       "      <td>0</td>\n",
       "      <td>0</td>\n",
       "      <td>NaN</td>\n",
       "    </tr>\n",
       "    <tr>\n",
       "      <th>26</th>\n",
       "      <td>Paris</td>\n",
       "      <td>Frankfurt</td>\n",
       "      <td>3</td>\n",
       "      <td>W</td>\n",
       "      <td>0</td>\n",
       "      <td>0</td>\n",
       "      <td>NaN</td>\n",
       "    </tr>\n",
       "    <tr>\n",
       "      <th>27</th>\n",
       "      <td>Paris</td>\n",
       "      <td>Frankfurt</td>\n",
       "      <td>3</td>\n",
       "      <td>O</td>\n",
       "      <td>0</td>\n",
       "      <td>0</td>\n",
       "      <td>NaN</td>\n",
       "    </tr>\n",
       "    <tr>\n",
       "      <th>100</th>\n",
       "      <td>Paris</td>\n",
       "      <td>Pamplona</td>\n",
       "      <td>4</td>\n",
       "      <td>G</td>\n",
       "      <td>0</td>\n",
       "      <td>0</td>\n",
       "      <td>NaN</td>\n",
       "    </tr>\n",
       "  </tbody>\n",
       "</table>\n",
       "</div>"
      ],
      "text/plain": [
       "    city_a     city_b  distance color  tunnel  ferry  ferry_count\n",
       "23   Paris     Zürich         3     X       1      0          NaN\n",
       "24   Paris  Bruxelles         2     Y       0      0          NaN\n",
       "25   Paris  Bruxelles         2     R       0      0          NaN\n",
       "26   Paris  Frankfurt         3     W       0      0          NaN\n",
       "27   Paris  Frankfurt         3     O       0      0          NaN\n",
       "100  Paris   Pamplona         4     G       0      0          NaN"
      ]
     },
     "execution_count": 202,
     "metadata": {},
     "output_type": "execute_result"
    }
   ],
   "source": [
    "df[df.city_a == 'Paris']"
   ]
  },
  {
   "cell_type": "code",
   "execution_count": 203,
   "id": "5b20bf48",
   "metadata": {},
   "outputs": [
    {
     "data": {
      "text/html": [
       "<div>\n",
       "<style scoped>\n",
       "    .dataframe tbody tr th:only-of-type {\n",
       "        vertical-align: middle;\n",
       "    }\n",
       "\n",
       "    .dataframe tbody tr th {\n",
       "        vertical-align: top;\n",
       "    }\n",
       "\n",
       "    .dataframe thead th {\n",
       "        text-align: right;\n",
       "    }\n",
       "</style>\n",
       "<table border=\"1\" class=\"dataframe\">\n",
       "  <thead>\n",
       "    <tr style=\"text-align: right;\">\n",
       "      <th></th>\n",
       "      <th>city_a</th>\n",
       "      <th>city_b</th>\n",
       "      <th>distance</th>\n",
       "      <th>color</th>\n",
       "      <th>tunnel</th>\n",
       "      <th>ferry</th>\n",
       "      <th>ferry_count</th>\n",
       "    </tr>\n",
       "  </thead>\n",
       "  <tbody>\n",
       "    <tr>\n",
       "      <th>6</th>\n",
       "      <td>Dieppe</td>\n",
       "      <td>Paris</td>\n",
       "      <td>1</td>\n",
       "      <td>P</td>\n",
       "      <td>0</td>\n",
       "      <td>0</td>\n",
       "      <td>NaN</td>\n",
       "    </tr>\n",
       "    <tr>\n",
       "      <th>8</th>\n",
       "      <td>Brest</td>\n",
       "      <td>Paris</td>\n",
       "      <td>3</td>\n",
       "      <td>B</td>\n",
       "      <td>0</td>\n",
       "      <td>0</td>\n",
       "      <td>NaN</td>\n",
       "    </tr>\n",
       "    <tr>\n",
       "      <th>13</th>\n",
       "      <td>Pamplona</td>\n",
       "      <td>Paris</td>\n",
       "      <td>4</td>\n",
       "      <td>B</td>\n",
       "      <td>0</td>\n",
       "      <td>0</td>\n",
       "      <td>NaN</td>\n",
       "    </tr>\n",
       "    <tr>\n",
       "      <th>20</th>\n",
       "      <td>Marseille</td>\n",
       "      <td>Paris</td>\n",
       "      <td>4</td>\n",
       "      <td>X</td>\n",
       "      <td>0</td>\n",
       "      <td>0</td>\n",
       "      <td>NaN</td>\n",
       "    </tr>\n",
       "  </tbody>\n",
       "</table>\n",
       "</div>"
      ],
      "text/plain": [
       "       city_a city_b  distance color  tunnel  ferry  ferry_count\n",
       "6      Dieppe  Paris         1     P       0      0          NaN\n",
       "8       Brest  Paris         3     B       0      0          NaN\n",
       "13   Pamplona  Paris         4     B       0      0          NaN\n",
       "20  Marseille  Paris         4     X       0      0          NaN"
      ]
     },
     "execution_count": 203,
     "metadata": {},
     "output_type": "execute_result"
    }
   ],
   "source": [
    "df[df.city_b == 'Paris']"
   ]
  },
  {
   "cell_type": "code",
   "execution_count": 204,
   "id": "7f4d0a40",
   "metadata": {},
   "outputs": [],
   "source": [
    "#df.city_a.value_counts()"
   ]
  },
  {
   "cell_type": "code",
   "execution_count": 205,
   "id": "558c9899",
   "metadata": {},
   "outputs": [],
   "source": [
    "#QUESTION: The NaNs from this result occur when a city is entirely in one column\n",
    "    # They have no \"value\" to count in one of the value_counts() below, resulting in the NaN\n",
    "        # I've used a diff strategy below to work around, but is there another way to solve? \n",
    "\n",
    "#df.city_b.value_counts() + df.city_a.value_counts()\n"
   ]
  },
  {
   "cell_type": "code",
   "execution_count": 206,
   "id": "fc507455",
   "metadata": {},
   "outputs": [
    {
     "data": {
      "text/plain": [
       "<AxesSubplot:title={'center':'Cities with the most train routes'}>"
      ]
     },
     "execution_count": 206,
     "metadata": {},
     "output_type": "execute_result"
    },
    {
     "data": {
      "image/png": "[encoded data removed]",
      "text/plain": [
       "<Figure size 432x288 with 1 Axes>"
      ]
     },
     "metadata": {
      "needs_background": "light"
     },
     "output_type": "display_data"
    }
   ],
   "source": [
    "a = df.city_b.value_counts()\n",
    "b = df.city_a.value_counts()\n",
    "a.add(b,fill_value=0)\n",
    "\n",
    "# From the documentation, it seems like the .add function + fill_value=0 helped bc whatever was leading to the NaN's \n",
    "    # has now been replaced by a 0 \n",
    "        # Not sure if that's right though...\n",
    "\n",
    "total_tracks = a.add(b,fill_value=0)\n",
    "total_tracks.sort_values(ascending=False).head(10).plot(kind='bar', title='Cities with the most train routes')\n"
   ]
  },
  {
   "cell_type": "code",
   "execution_count": 11,
   "id": "e9979c93",
   "metadata": {},
   "outputs": [
    {
     "data": {
      "text/plain": [
       "city_a\n",
       "Amsterdam         2\n",
       "Angora            2\n",
       "Athína            3\n",
       "Barcelona         1\n",
       "Brest             2\n",
       "Brindisi          2\n",
       "Bruxelles         2\n",
       "Bucuresti         3\n",
       "Constantinople    3\n",
       "Danzic            1\n",
       "Dieppe            3\n",
       "Edinburgh         2\n",
       "Erzurum           2\n",
       "Essen             1\n",
       "Frankfurt         4\n",
       "Kharkov           3\n",
       "Kobenhavn         2\n",
       "Kyiv              4\n",
       "Lisboa            1\n",
       "London            3\n",
       "Madrid            3\n",
       "Marseille         3\n",
       "Moskva            2\n",
       "München           2\n",
       "Palermo           1\n",
       "Pamplona          5\n",
       "Paris             6\n",
       "Petrograd         2\n",
       "Riga              1\n",
       "Roma              2\n",
       "Rostov            1\n",
       "Sarajevo          2\n",
       "Sevastopol        1\n",
       "Smolensk          1\n",
       "Smyrna            2\n",
       "Sochi             2\n",
       "Stockholm         2\n",
       "Venezia           2\n",
       "Warszawa          4\n",
       "Wien              4\n",
       "Wilno             3\n",
       "Zágráb            2\n",
       "Zürich            2\n",
       "Name: distance, dtype: int64"
      ]
     },
     "execution_count": 11,
     "metadata": {},
     "output_type": "execute_result"
    }
   ],
   "source": [
    "df.groupby(by='city_a').distance.count()"
   ]
  },
  {
   "cell_type": "code",
   "execution_count": 207,
   "id": "e5095583",
   "metadata": {},
   "outputs": [
    {
     "data": {
      "text/html": [
       "<div>\n",
       "<style scoped>\n",
       "    .dataframe tbody tr th:only-of-type {\n",
       "        vertical-align: middle;\n",
       "    }\n",
       "\n",
       "    .dataframe tbody tr th {\n",
       "        vertical-align: top;\n",
       "    }\n",
       "\n",
       "    .dataframe thead th {\n",
       "        text-align: right;\n",
       "    }\n",
       "</style>\n",
       "<table border=\"1\" class=\"dataframe\">\n",
       "  <thead>\n",
       "    <tr style=\"text-align: right;\">\n",
       "      <th></th>\n",
       "      <th>train_routes_per_city</th>\n",
       "    </tr>\n",
       "  </thead>\n",
       "  <tbody>\n",
       "    <tr>\n",
       "      <th>Amsterdam</th>\n",
       "      <td>4.0</td>\n",
       "    </tr>\n",
       "    <tr>\n",
       "      <th>Angora</th>\n",
       "      <td>3.0</td>\n",
       "    </tr>\n",
       "    <tr>\n",
       "      <th>Athína</th>\n",
       "      <td>4.0</td>\n",
       "    </tr>\n",
       "    <tr>\n",
       "      <th>Barcelona</th>\n",
       "      <td>3.0</td>\n",
       "    </tr>\n",
       "    <tr>\n",
       "      <th>Berlin</th>\n",
       "      <td>7.0</td>\n",
       "    </tr>\n",
       "  </tbody>\n",
       "</table>\n",
       "</div>"
      ],
      "text/plain": [
       "           train_routes_per_city\n",
       "Amsterdam                    4.0\n",
       "Angora                       3.0\n",
       "Athína                       4.0\n",
       "Barcelona                    3.0\n",
       "Berlin                       7.0"
      ]
     },
     "execution_count": 207,
     "metadata": {},
     "output_type": "execute_result"
    }
   ],
   "source": [
    "# Creating a new dataframe with each city appearing once to store summary statistics about each city \n",
    "\n",
    "df_city = a.add(b,fill_value=0).to_frame(name='train_routes_per_city')\n",
    "\n",
    "df_city.head()"
   ]
  },
  {
   "cell_type": "code",
   "execution_count": 208,
   "id": "d03ad525",
   "metadata": {},
   "outputs": [
    {
     "data": {
      "text/html": [
       "<div>\n",
       "<style scoped>\n",
       "    .dataframe tbody tr th:only-of-type {\n",
       "        vertical-align: middle;\n",
       "    }\n",
       "\n",
       "    .dataframe tbody tr th {\n",
       "        vertical-align: top;\n",
       "    }\n",
       "\n",
       "    .dataframe thead th {\n",
       "        text-align: right;\n",
       "    }\n",
       "</style>\n",
       "<table border=\"1\" class=\"dataframe\">\n",
       "  <thead>\n",
       "    <tr style=\"text-align: right;\">\n",
       "      <th></th>\n",
       "      <th>city_a</th>\n",
       "      <th>city_b</th>\n",
       "      <th>distance</th>\n",
       "      <th>color</th>\n",
       "      <th>tunnel</th>\n",
       "      <th>ferry</th>\n",
       "      <th>ferry_count</th>\n",
       "    </tr>\n",
       "  </thead>\n",
       "  <tbody>\n",
       "    <tr>\n",
       "      <th>0</th>\n",
       "      <td>Edinburgh</td>\n",
       "      <td>London</td>\n",
       "      <td>4</td>\n",
       "      <td>B</td>\n",
       "      <td>0</td>\n",
       "      <td>0</td>\n",
       "      <td>NaN</td>\n",
       "    </tr>\n",
       "    <tr>\n",
       "      <th>1</th>\n",
       "      <td>Edinburgh</td>\n",
       "      <td>London</td>\n",
       "      <td>4</td>\n",
       "      <td>O</td>\n",
       "      <td>0</td>\n",
       "      <td>0</td>\n",
       "      <td>NaN</td>\n",
       "    </tr>\n",
       "    <tr>\n",
       "      <th>2</th>\n",
       "      <td>London</td>\n",
       "      <td>Dieppe</td>\n",
       "      <td>2</td>\n",
       "      <td>X</td>\n",
       "      <td>0</td>\n",
       "      <td>1</td>\n",
       "      <td>1.0</td>\n",
       "    </tr>\n",
       "    <tr>\n",
       "      <th>3</th>\n",
       "      <td>London</td>\n",
       "      <td>Dieppe</td>\n",
       "      <td>2</td>\n",
       "      <td>X</td>\n",
       "      <td>0</td>\n",
       "      <td>1</td>\n",
       "      <td>1.0</td>\n",
       "    </tr>\n",
       "    <tr>\n",
       "      <th>4</th>\n",
       "      <td>London</td>\n",
       "      <td>Amsterdam</td>\n",
       "      <td>2</td>\n",
       "      <td>X</td>\n",
       "      <td>0</td>\n",
       "      <td>1</td>\n",
       "      <td>2.0</td>\n",
       "    </tr>\n",
       "  </tbody>\n",
       "</table>\n",
       "</div>"
      ],
      "text/plain": [
       "      city_a     city_b  distance color  tunnel  ferry  ferry_count\n",
       "0  Edinburgh     London         4     B       0      0          NaN\n",
       "1  Edinburgh     London         4     O       0      0          NaN\n",
       "2     London     Dieppe         2     X       0      1          1.0\n",
       "3     London     Dieppe         2     X       0      1          1.0\n",
       "4     London  Amsterdam         2     X       0      1          2.0"
      ]
     },
     "execution_count": 208,
     "metadata": {},
     "output_type": "execute_result"
    }
   ],
   "source": [
    "df.head()"
   ]
  },
  {
   "cell_type": "code",
   "execution_count": 209,
   "id": "e975694c",
   "metadata": {},
   "outputs": [
    {
     "data": {
      "text/plain": [
       "<AxesSubplot:title={'center':'Cities with the most adjacent tunnels'}>"
      ]
     },
     "execution_count": 209,
     "metadata": {},
     "output_type": "execute_result"
    },
    {
     "data": {
      "image/png": "[encoded data removed]",
      "text/plain": [
       "<Figure size 432x288 with 1 Axes>"
      ]
     },
     "metadata": {
      "needs_background": "light"
     },
     "output_type": "display_data"
    }
   ],
   "source": [
    "a = df[df.tunnel == 1].city_a.value_counts()\n",
    "b = df[df.tunnel == 1].city_b.value_counts()\n",
    "\n",
    "\n",
    "# a = df.city_b.value_counts()\n",
    "# b = df.city_a.value_counts()\n",
    "a.add(b,fill_value=0).sort_values(ascending=False).head().plot(kind='bar', title='Cities with the most adjacent tunnels')\n",
    "\n",
    "# NOTE: What would really be interesting is looking at ratio of tunnel tracks vs total tracks \n",
    "# it might be worth making a new df with all of the city names mentioned once with information like this? to track all of the summary stats "
   ]
  },
  {
   "cell_type": "code",
   "execution_count": 210,
   "id": "3624ed7b",
   "metadata": {},
   "outputs": [
    {
     "data": {
      "text/plain": [
       "18"
      ]
     },
     "execution_count": 210,
     "metadata": {},
     "output_type": "execute_result"
    }
   ],
   "source": [
    "df.tunnel.sum()\n",
    "#there are 18 routes that require tunnels"
   ]
  },
  {
   "cell_type": "code",
   "execution_count": 211,
   "id": "26ba7804",
   "metadata": {},
   "outputs": [],
   "source": [
    "df_city['tunnel_count'] = a.add(b,fill_value=0)\n",
    "#df_city"
   ]
  },
  {
   "cell_type": "code",
   "execution_count": 212,
   "id": "db274348",
   "metadata": {},
   "outputs": [
    {
     "data": {
      "text/html": [
       "<div>\n",
       "<style scoped>\n",
       "    .dataframe tbody tr th:only-of-type {\n",
       "        vertical-align: middle;\n",
       "    }\n",
       "\n",
       "    .dataframe tbody tr th {\n",
       "        vertical-align: top;\n",
       "    }\n",
       "\n",
       "    .dataframe thead th {\n",
       "        text-align: right;\n",
       "    }\n",
       "</style>\n",
       "<table border=\"1\" class=\"dataframe\">\n",
       "  <thead>\n",
       "    <tr style=\"text-align: right;\">\n",
       "      <th></th>\n",
       "      <th>city_a</th>\n",
       "      <th>city_b</th>\n",
       "      <th>distance</th>\n",
       "      <th>color</th>\n",
       "      <th>tunnel</th>\n",
       "      <th>ferry</th>\n",
       "      <th>ferry_count</th>\n",
       "    </tr>\n",
       "  </thead>\n",
       "  <tbody>\n",
       "    <tr>\n",
       "      <th>0</th>\n",
       "      <td>Edinburgh</td>\n",
       "      <td>London</td>\n",
       "      <td>4</td>\n",
       "      <td>B</td>\n",
       "      <td>0</td>\n",
       "      <td>0</td>\n",
       "      <td>NaN</td>\n",
       "    </tr>\n",
       "    <tr>\n",
       "      <th>1</th>\n",
       "      <td>Edinburgh</td>\n",
       "      <td>London</td>\n",
       "      <td>4</td>\n",
       "      <td>O</td>\n",
       "      <td>0</td>\n",
       "      <td>0</td>\n",
       "      <td>NaN</td>\n",
       "    </tr>\n",
       "    <tr>\n",
       "      <th>2</th>\n",
       "      <td>London</td>\n",
       "      <td>Dieppe</td>\n",
       "      <td>2</td>\n",
       "      <td>X</td>\n",
       "      <td>0</td>\n",
       "      <td>1</td>\n",
       "      <td>1.0</td>\n",
       "    </tr>\n",
       "    <tr>\n",
       "      <th>3</th>\n",
       "      <td>London</td>\n",
       "      <td>Dieppe</td>\n",
       "      <td>2</td>\n",
       "      <td>X</td>\n",
       "      <td>0</td>\n",
       "      <td>1</td>\n",
       "      <td>1.0</td>\n",
       "    </tr>\n",
       "    <tr>\n",
       "      <th>4</th>\n",
       "      <td>London</td>\n",
       "      <td>Amsterdam</td>\n",
       "      <td>2</td>\n",
       "      <td>X</td>\n",
       "      <td>0</td>\n",
       "      <td>1</td>\n",
       "      <td>2.0</td>\n",
       "    </tr>\n",
       "  </tbody>\n",
       "</table>\n",
       "</div>"
      ],
      "text/plain": [
       "      city_a     city_b  distance color  tunnel  ferry  ferry_count\n",
       "0  Edinburgh     London         4     B       0      0          NaN\n",
       "1  Edinburgh     London         4     O       0      0          NaN\n",
       "2     London     Dieppe         2     X       0      1          1.0\n",
       "3     London     Dieppe         2     X       0      1          1.0\n",
       "4     London  Amsterdam         2     X       0      1          2.0"
      ]
     },
     "execution_count": 212,
     "metadata": {},
     "output_type": "execute_result"
    }
   ],
   "source": [
    "df.head()"
   ]
  },
  {
   "cell_type": "code",
   "execution_count": 213,
   "id": "90a90564",
   "metadata": {},
   "outputs": [
    {
     "data": {
      "text/plain": [
       "<AxesSubplot:title={'center':'Distribution of number of ferry routes of cities requiring at least one ferry'}>"
      ]
     },
     "execution_count": 213,
     "metadata": {},
     "output_type": "execute_result"
    },
    {
     "data": {
      "image/png": "[encoded data removed]",
      "text/plain": [
       "<Figure size 432x288 with 1 Axes>"
      ]
     },
     "metadata": {
      "needs_background": "light"
     },
     "output_type": "display_data"
    }
   ],
   "source": [
    "a = df[df.ferry == 1].city_a.value_counts()\n",
    "b = df[df.ferry == 1].city_b.value_counts()\n",
    "\n",
    "\n",
    "# a = df.city_b.value_counts()\n",
    "# b = df.city_a.value_counts()\n",
    "a.add(b,fill_value=0).sort_values(ascending=False).plot(kind='bar', title='Distribution of number of ferry routes of cities requiring at least one ferry')\n",
    "\n",
    "# NOTE: same as above for ratio to ferry routes vs total routes for each city "
   ]
  },
  {
   "cell_type": "code",
   "execution_count": 217,
   "id": "95e26e36",
   "metadata": {},
   "outputs": [],
   "source": [
    "df_city['ferry_route_count'] = a.add(b,fill_value=0)\n",
    "df_city.to_csv('Europe_city_info.csv')"
   ]
  },
  {
   "cell_type": "code",
   "execution_count": 131,
   "id": "1e0a3dde",
   "metadata": {},
   "outputs": [
    {
     "data": {
      "text/plain": [
       "17.0"
      ]
     },
     "execution_count": 131,
     "metadata": {},
     "output_type": "execute_result"
    }
   ],
   "source": [
    "df.ferry.sum()\n",
    "#there are 13 routes that require ferries\n",
    "df.ferry_count.sum()\n",
    "# And there are 17 total ferries needed on the board (17 ferries spread over 13 routes)"
   ]
  },
  {
   "cell_type": "code",
   "execution_count": null,
   "id": "0b94032d",
   "metadata": {},
   "outputs": [],
   "source": []
  },
  {
   "cell_type": "code",
   "execution_count": 152,
   "id": "ec584f9c",
   "metadata": {},
   "outputs": [
    {
     "data": {
      "image/png": "[encoded data removed]",
      "text/plain": [
       "<Figure size 640x480 with 1 Axes>"
      ]
     },
     "metadata": {},
     "output_type": "display_data"
    },
    {
     "data": {
      "text/plain": [
       "<ggplot: (300176267)>"
      ]
     },
     "execution_count": 152,
     "metadata": {},
     "output_type": "execute_result"
    }
   ],
   "source": [
    "# This shows the distribution of route lengths (measured in train cars)\n",
    "from plotnine import ggplot, aes, geom_point, facet_wrap, theme_void\n",
    "\n",
    "(\n",
    "    ggplot(df,\n",
    "          aes('city_a', 'distance'))\n",
    "        + geom_point()\n",
    ")\n",
    "\n",
    "# COME BACK: \n",
    "#to get rid of x-axis lables, need to set elemenent blank in theme\n",
    "# https://stackoverflow.com/questions/35090883/remove-all-of-x-axis-labels-in-ggplot"
   ]
  },
  {
   "cell_type": "code",
   "execution_count": 153,
   "id": "9cde0c77",
   "metadata": {},
   "outputs": [
    {
     "data": {
      "image/png": "[encoded data removed]",
      "text/plain": [
       "<Figure size 640x480 with 2 Axes>"
      ]
     },
     "metadata": {},
     "output_type": "display_data"
    },
    {
     "data": {
      "text/plain": [
       "<ggplot: (300222507)>"
      ]
     },
     "execution_count": 153,
     "metadata": {},
     "output_type": "execute_result"
    }
   ],
   "source": [
    "# This shows the same as above, but separated by \"Tunnel\" routes and non-tunnel routes \n",
    "\n",
    "from plotnine import ggplot, aes, geom_point, facet_wrap\n",
    "\n",
    "(\n",
    "    ggplot(df,\n",
    "          aes('city_a', 'distance'))\n",
    "        + geom_point()\n",
    "        + facet_wrap('tunnel')\n",
    ")"
   ]
  },
  {
   "cell_type": "code",
   "execution_count": 156,
   "id": "d7a2131a",
   "metadata": {},
   "outputs": [
    {
     "data": {
      "image/png": "[encoded data removed]",
      "text/plain": [
       "<Figure size 640x480 with 2 Axes>"
      ]
     },
     "metadata": {},
     "output_type": "display_data"
    },
    {
     "data": {
      "text/plain": [
       "<ggplot: (300572597)>"
      ]
     },
     "execution_count": 156,
     "metadata": {},
     "output_type": "execute_result"
    }
   ],
   "source": [
    "# This shows the distribution of route lengths, separated by \"Ferry\" routes and non-ferry routes\n",
    "    # Ferry routes require a rainbow locamotive in order to build  \n",
    "        # I've also added a color for the \"Tunnel\" category; there are no Ferry routes that are also Tunnels\n",
    "            # This makes sense! Why would you need a boat and an underground train at the same time, afterall? \n",
    "        \n",
    "#COME BACK: is color in the right place?\n",
    "\n",
    "from plotnine import ggplot, aes, geom_point, facet_wrap\n",
    "\n",
    "(\n",
    "    ggplot(df,\n",
    "          aes('city_a', 'distance', color='tunnel'))\n",
    "        + geom_point()\n",
    "        + facet_wrap('ferry')\n",
    ")"
   ]
  },
  {
   "cell_type": "code",
   "execution_count": 158,
   "id": "a7fefe51",
   "metadata": {},
   "outputs": [
    {
     "name": "stderr",
     "output_type": "stream",
     "text": [
      "/Users/jessieblaeser/.pyenv/versions/3.10.0/lib/python3.10/site-packages/plotnine/layer.py:401: PlotnineWarning: geom_point : Removed 88 rows containing missing values.\n"
     ]
    },
    {
     "data": {
      "image/png": "[encoded data removed]",
      "text/plain": [
       "<Figure size 640x480 with 1 Axes>"
      ]
     },
     "metadata": {},
     "output_type": "display_data"
    },
    {
     "data": {
      "text/plain": [
       "<ggplot: (296557818)>"
      ]
     },
     "execution_count": 158,
     "metadata": {},
     "output_type": "execute_result"
    }
   ],
   "source": [
    "#COME BACK: make nan = 0 \n",
    "\n",
    "(\n",
    "    ggplot(df,\n",
    "          aes('city_a', 'distance', size='ferry_count'))\n",
    "        + geom_point()\n",
    ")"
   ]
  },
  {
   "cell_type": "code",
   "execution_count": null,
   "id": "1dd857f3",
   "metadata": {},
   "outputs": [],
   "source": []
  }
 ],
 "metadata": {
  "kernelspec": {
   "display_name": "Python 3 (ipykernel)",
   "language": "python",
   "name": "python3"
  },
  "language_info": {
   "codemirror_mode": {
    "name": "ipython",
    "version": 3
   },
   "file_extension": ".py",
   "mimetype": "text/x-python",
   "name": "python",
   "nbconvert_exporter": "python",
   "pygments_lexer": "ipython3",
   "version": "3.10.0"
  }
 },
 "nbformat": 4,
 "nbformat_minor": 5
}
